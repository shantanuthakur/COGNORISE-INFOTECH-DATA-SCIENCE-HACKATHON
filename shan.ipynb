{
 "cells": [
  {
   "cell_type": "code",
   "execution_count": 1,
   "id": "439a71f0-9e2c-47fa-a625-6875b7a3ba77",
   "metadata": {},
   "outputs": [],
   "source": [
    "# Importing relevant libraries\n",
    "\n",
    "# Data wrangling\n",
    "import numpy as np\n",
    "import pandas as pd\n",
    "from tqdm import tqdm\n",
    "\n",
    "# Data Visualization\n",
    "import matplotlib.pyplot as plt\n",
    "import plotly.express as px\n",
    "import plotly.graph_objects as go\n",
    "from plotly.subplots import make_subplots\n",
    "\n",
    "\n",
    "# Data pre-processing\n",
    "from sklearn.preprocessing import StandardScaler\n",
    "\n",
    "# Data splitting\n",
    "from sklearn.model_selection import train_test_split\n",
    "\n",
    "# Machine learning Models\n",
    "from sklearn.decomposition import PCA\n",
    "from sklearn.model_selection import GridSearchCV\n",
    "from sklearn.linear_model import LogisticRegression\n",
    "from sklearn.tree import DecisionTreeClassifier\n",
    "from sklearn.svm import SVC\n",
    "from sklearn.ensemble import RandomForestClassifier\n",
    "from sklearn.neighbors import KNeighborsClassifier\n",
    "\n",
    "\n",
    "# Evaluation metrics\n",
    "from sklearn.metrics import accuracy_score\n",
    "from sklearn.metrics import confusion_matrix, ConfusionMatrixDisplay\n",
    "from sklearn.metrics import roc_curve, auc\n",
    "\n",
    "\n",
    "#Installing dependencies\n",
    "# !pip install -U kaleido"
   ]
  },
  {
   "cell_type": "code",
   "execution_count": null,
   "id": "621dc708-a280-43ea-abe8-cfc243f12b96",
   "metadata": {},
   "outputs": [],
   "source": []
  },
  {
   "cell_type": "code",
   "execution_count": 65,
   "id": "8d4a6c24-12af-49f3-8ea5-f3c463cfedbb",
   "metadata": {},
   "outputs": [
    {
     "data": {
      "text/html": [
       "<div>\n",
       "<style scoped>\n",
       "    .dataframe tbody tr th:only-of-type {\n",
       "        vertical-align: middle;\n",
       "    }\n",
       "\n",
       "    .dataframe tbody tr th {\n",
       "        vertical-align: top;\n",
       "    }\n",
       "\n",
       "    .dataframe thead th {\n",
       "        text-align: right;\n",
       "    }\n",
       "</style>\n",
       "<table border=\"1\" class=\"dataframe\">\n",
       "  <thead>\n",
       "    <tr style=\"text-align: right;\">\n",
       "      <th></th>\n",
       "      <th>sno</th>\n",
       "      <th>cc_info</th>\n",
       "      <th>durtion_month</th>\n",
       "      <th>credit_history</th>\n",
       "      <th>purpose</th>\n",
       "      <th>svings_cc</th>\n",
       "      <th>employment_st</th>\n",
       "      <th>poi</th>\n",
       "      <th>personl_sttus</th>\n",
       "      <th>gurntors</th>\n",
       "      <th>...</th>\n",
       "      <th>property_type</th>\n",
       "      <th>ge</th>\n",
       "      <th>instllment_type</th>\n",
       "      <th>housing_type</th>\n",
       "      <th>credits_no</th>\n",
       "      <th>job_type</th>\n",
       "      <th>libles</th>\n",
       "      <th>telephone</th>\n",
       "      <th>foreigner</th>\n",
       "      <th>Group_no</th>\n",
       "    </tr>\n",
       "  </thead>\n",
       "  <tbody>\n",
       "    <tr>\n",
       "      <th>0</th>\n",
       "      <td>1</td>\n",
       "      <td>11</td>\n",
       "      <td>6</td>\n",
       "      <td>34</td>\n",
       "      <td>43</td>\n",
       "      <td>65</td>\n",
       "      <td>75.0</td>\n",
       "      <td>4.0</td>\n",
       "      <td>93</td>\n",
       "      <td>101.0</td>\n",
       "      <td>...</td>\n",
       "      <td>121</td>\n",
       "      <td>67.0</td>\n",
       "      <td>143</td>\n",
       "      <td>152.0</td>\n",
       "      <td>2</td>\n",
       "      <td>173</td>\n",
       "      <td>1</td>\n",
       "      <td>192</td>\n",
       "      <td>201</td>\n",
       "      <td>3</td>\n",
       "    </tr>\n",
       "    <tr>\n",
       "      <th>1</th>\n",
       "      <td>2</td>\n",
       "      <td>12</td>\n",
       "      <td>48</td>\n",
       "      <td>32</td>\n",
       "      <td>43</td>\n",
       "      <td>61</td>\n",
       "      <td>73.0</td>\n",
       "      <td>2.0</td>\n",
       "      <td>92</td>\n",
       "      <td>101.0</td>\n",
       "      <td>...</td>\n",
       "      <td>121</td>\n",
       "      <td>22.0</td>\n",
       "      <td>143</td>\n",
       "      <td>152.0</td>\n",
       "      <td>1</td>\n",
       "      <td>173</td>\n",
       "      <td>1</td>\n",
       "      <td>191</td>\n",
       "      <td>201</td>\n",
       "      <td>1</td>\n",
       "    </tr>\n",
       "    <tr>\n",
       "      <th>2</th>\n",
       "      <td>3</td>\n",
       "      <td>14</td>\n",
       "      <td>12</td>\n",
       "      <td>34</td>\n",
       "      <td>46</td>\n",
       "      <td>61</td>\n",
       "      <td>74.0</td>\n",
       "      <td>2.0</td>\n",
       "      <td>93</td>\n",
       "      <td>101.0</td>\n",
       "      <td>...</td>\n",
       "      <td>121</td>\n",
       "      <td>49.0</td>\n",
       "      <td>143</td>\n",
       "      <td>152.0</td>\n",
       "      <td>1</td>\n",
       "      <td>172</td>\n",
       "      <td>2</td>\n",
       "      <td>191</td>\n",
       "      <td>201</td>\n",
       "      <td>2</td>\n",
       "    </tr>\n",
       "    <tr>\n",
       "      <th>3</th>\n",
       "      <td>4</td>\n",
       "      <td>11</td>\n",
       "      <td>42</td>\n",
       "      <td>32</td>\n",
       "      <td>42</td>\n",
       "      <td>61</td>\n",
       "      <td>74.0</td>\n",
       "      <td>2.0</td>\n",
       "      <td>93</td>\n",
       "      <td>103.0</td>\n",
       "      <td>...</td>\n",
       "      <td>122</td>\n",
       "      <td>45.0</td>\n",
       "      <td>143</td>\n",
       "      <td>153.0</td>\n",
       "      <td>1</td>\n",
       "      <td>173</td>\n",
       "      <td>2</td>\n",
       "      <td>191</td>\n",
       "      <td>201</td>\n",
       "      <td>1</td>\n",
       "    </tr>\n",
       "    <tr>\n",
       "      <th>4</th>\n",
       "      <td>5</td>\n",
       "      <td>11</td>\n",
       "      <td>24</td>\n",
       "      <td>33</td>\n",
       "      <td>40</td>\n",
       "      <td>61</td>\n",
       "      <td>73.0</td>\n",
       "      <td>3.0</td>\n",
       "      <td>93</td>\n",
       "      <td>101.0</td>\n",
       "      <td>...</td>\n",
       "      <td>124</td>\n",
       "      <td>53.0</td>\n",
       "      <td>143</td>\n",
       "      <td>153.0</td>\n",
       "      <td>2</td>\n",
       "      <td>173</td>\n",
       "      <td>2</td>\n",
       "      <td>191</td>\n",
       "      <td>201</td>\n",
       "      <td>1</td>\n",
       "    </tr>\n",
       "    <tr>\n",
       "      <th>...</th>\n",
       "      <td>...</td>\n",
       "      <td>...</td>\n",
       "      <td>...</td>\n",
       "      <td>...</td>\n",
       "      <td>...</td>\n",
       "      <td>...</td>\n",
       "      <td>...</td>\n",
       "      <td>...</td>\n",
       "      <td>...</td>\n",
       "      <td>...</td>\n",
       "      <td>...</td>\n",
       "      <td>...</td>\n",
       "      <td>...</td>\n",
       "      <td>...</td>\n",
       "      <td>...</td>\n",
       "      <td>...</td>\n",
       "      <td>...</td>\n",
       "      <td>...</td>\n",
       "      <td>...</td>\n",
       "      <td>...</td>\n",
       "      <td>...</td>\n",
       "    </tr>\n",
       "    <tr>\n",
       "      <th>795</th>\n",
       "      <td>796</td>\n",
       "      <td>14</td>\n",
       "      <td>9</td>\n",
       "      <td>32</td>\n",
       "      <td>42</td>\n",
       "      <td>62</td>\n",
       "      <td>72.0</td>\n",
       "      <td>2.0</td>\n",
       "      <td>92</td>\n",
       "      <td>101.0</td>\n",
       "      <td>...</td>\n",
       "      <td>122</td>\n",
       "      <td>22.0</td>\n",
       "      <td>143</td>\n",
       "      <td>151.0</td>\n",
       "      <td>1</td>\n",
       "      <td>173</td>\n",
       "      <td>1</td>\n",
       "      <td>191</td>\n",
       "      <td>201</td>\n",
       "      <td>2</td>\n",
       "    </tr>\n",
       "    <tr>\n",
       "      <th>796</th>\n",
       "      <td>797</td>\n",
       "      <td>11</td>\n",
       "      <td>18</td>\n",
       "      <td>32</td>\n",
       "      <td>41</td>\n",
       "      <td>65</td>\n",
       "      <td>75.0</td>\n",
       "      <td>1.0</td>\n",
       "      <td>93</td>\n",
       "      <td>101.0</td>\n",
       "      <td>...</td>\n",
       "      <td>122</td>\n",
       "      <td>51.0</td>\n",
       "      <td>143</td>\n",
       "      <td>153.0</td>\n",
       "      <td>1</td>\n",
       "      <td>173</td>\n",
       "      <td>2</td>\n",
       "      <td>192</td>\n",
       "      <td>201</td>\n",
       "      <td>1</td>\n",
       "    </tr>\n",
       "    <tr>\n",
       "      <th>797</th>\n",
       "      <td>798</td>\n",
       "      <td>14</td>\n",
       "      <td>12</td>\n",
       "      <td>34</td>\n",
       "      <td>42</td>\n",
       "      <td>61</td>\n",
       "      <td>72.0</td>\n",
       "      <td>2.0</td>\n",
       "      <td>92</td>\n",
       "      <td>101.0</td>\n",
       "      <td>...</td>\n",
       "      <td>122</td>\n",
       "      <td>22.0</td>\n",
       "      <td>143</td>\n",
       "      <td>151.0</td>\n",
       "      <td>2</td>\n",
       "      <td>172</td>\n",
       "      <td>1</td>\n",
       "      <td>191</td>\n",
       "      <td>201</td>\n",
       "      <td>3</td>\n",
       "    </tr>\n",
       "    <tr>\n",
       "      <th>798</th>\n",
       "      <td>799</td>\n",
       "      <td>14</td>\n",
       "      <td>24</td>\n",
       "      <td>33</td>\n",
       "      <td>40</td>\n",
       "      <td>65</td>\n",
       "      <td>75.0</td>\n",
       "      <td>4.0</td>\n",
       "      <td>94</td>\n",
       "      <td>101.0</td>\n",
       "      <td>...</td>\n",
       "      <td>123</td>\n",
       "      <td>54.0</td>\n",
       "      <td>143</td>\n",
       "      <td>152.0</td>\n",
       "      <td>2</td>\n",
       "      <td>173</td>\n",
       "      <td>1</td>\n",
       "      <td>192</td>\n",
       "      <td>201</td>\n",
       "      <td>3</td>\n",
       "    </tr>\n",
       "    <tr>\n",
       "      <th>799</th>\n",
       "      <td>800</td>\n",
       "      <td>12</td>\n",
       "      <td>9</td>\n",
       "      <td>32</td>\n",
       "      <td>40</td>\n",
       "      <td>65</td>\n",
       "      <td>72.0</td>\n",
       "      <td>4.0</td>\n",
       "      <td>93</td>\n",
       "      <td>101.0</td>\n",
       "      <td>...</td>\n",
       "      <td>121</td>\n",
       "      <td>35.0</td>\n",
       "      <td>143</td>\n",
       "      <td>152.0</td>\n",
       "      <td>1</td>\n",
       "      <td>171</td>\n",
       "      <td>1</td>\n",
       "      <td>191</td>\n",
       "      <td>201</td>\n",
       "      <td>2</td>\n",
       "    </tr>\n",
       "  </tbody>\n",
       "</table>\n",
       "<p>800 rows × 21 columns</p>\n",
       "</div>"
      ],
      "text/plain": [
       "     sno  cc_info  durtion_month  credit_history  purpose  svings_cc  \\\n",
       "0      1       11              6              34       43         65   \n",
       "1      2       12             48              32       43         61   \n",
       "2      3       14             12              34       46         61   \n",
       "3      4       11             42              32       42         61   \n",
       "4      5       11             24              33       40         61   \n",
       "..   ...      ...            ...             ...      ...        ...   \n",
       "795  796       14              9              32       42         62   \n",
       "796  797       11             18              32       41         65   \n",
       "797  798       14             12              34       42         61   \n",
       "798  799       14             24              33       40         65   \n",
       "799  800       12              9              32       40         65   \n",
       "\n",
       "     employment_st  poi  personl_sttus  gurntors  ...  property_type    ge  \\\n",
       "0             75.0  4.0             93     101.0  ...            121  67.0   \n",
       "1             73.0  2.0             92     101.0  ...            121  22.0   \n",
       "2             74.0  2.0             93     101.0  ...            121  49.0   \n",
       "3             74.0  2.0             93     103.0  ...            122  45.0   \n",
       "4             73.0  3.0             93     101.0  ...            124  53.0   \n",
       "..             ...  ...            ...       ...  ...            ...   ...   \n",
       "795           72.0  2.0             92     101.0  ...            122  22.0   \n",
       "796           75.0  1.0             93     101.0  ...            122  51.0   \n",
       "797           72.0  2.0             92     101.0  ...            122  22.0   \n",
       "798           75.0  4.0             94     101.0  ...            123  54.0   \n",
       "799           72.0  4.0             93     101.0  ...            121  35.0   \n",
       "\n",
       "     instllment_type  housing_type  credits_no  job_type  libles  telephone  \\\n",
       "0                143         152.0           2       173       1        192   \n",
       "1                143         152.0           1       173       1        191   \n",
       "2                143         152.0           1       172       2        191   \n",
       "3                143         153.0           1       173       2        191   \n",
       "4                143         153.0           2       173       2        191   \n",
       "..               ...           ...         ...       ...     ...        ...   \n",
       "795              143         151.0           1       173       1        191   \n",
       "796              143         153.0           1       173       2        192   \n",
       "797              143         151.0           2       172       1        191   \n",
       "798              143         152.0           2       173       1        192   \n",
       "799              143         152.0           1       171       1        191   \n",
       "\n",
       "     foreigner  Group_no  \n",
       "0          201         3  \n",
       "1          201         1  \n",
       "2          201         2  \n",
       "3          201         1  \n",
       "4          201         1  \n",
       "..         ...       ...  \n",
       "795        201         2  \n",
       "796        201         1  \n",
       "797        201         3  \n",
       "798        201         3  \n",
       "799        201         2  \n",
       "\n",
       "[800 rows x 21 columns]"
      ]
     },
     "execution_count": 65,
     "metadata": {},
     "output_type": "execute_result"
    }
   ],
   "source": [
    "tra=pd.read_csv(\"C&T train dataset2.csv\")\n",
    "tra"
   ]
  },
  {
   "cell_type": "code",
   "execution_count": 66,
   "id": "60984206-2c2b-441c-86a6-9d6617662df4",
   "metadata": {},
   "outputs": [
    {
     "data": {
      "text/plain": [
       "(800, 21)"
      ]
     },
     "execution_count": 66,
     "metadata": {},
     "output_type": "execute_result"
    }
   ],
   "source": [
    "# shape of data\n",
    "tra.shape"
   ]
  },
  {
   "cell_type": "code",
   "execution_count": 67,
   "id": "820d176f-cf28-4333-b04c-dfbd51e9d0d1",
   "metadata": {},
   "outputs": [
    {
     "data": {
      "text/plain": [
       "<bound method DataFrame.info of      sno  cc_info  durtion_month  credit_history  purpose  svings_cc  \\\n",
       "0      1       11              6              34       43         65   \n",
       "1      2       12             48              32       43         61   \n",
       "2      3       14             12              34       46         61   \n",
       "3      4       11             42              32       42         61   \n",
       "4      5       11             24              33       40         61   \n",
       "..   ...      ...            ...             ...      ...        ...   \n",
       "795  796       14              9              32       42         62   \n",
       "796  797       11             18              32       41         65   \n",
       "797  798       14             12              34       42         61   \n",
       "798  799       14             24              33       40         65   \n",
       "799  800       12              9              32       40         65   \n",
       "\n",
       "     employment_st  poi  personl_sttus  gurntors  ...  property_type    ge  \\\n",
       "0             75.0  4.0             93     101.0  ...            121  67.0   \n",
       "1             73.0  2.0             92     101.0  ...            121  22.0   \n",
       "2             74.0  2.0             93     101.0  ...            121  49.0   \n",
       "3             74.0  2.0             93     103.0  ...            122  45.0   \n",
       "4             73.0  3.0             93     101.0  ...            124  53.0   \n",
       "..             ...  ...            ...       ...  ...            ...   ...   \n",
       "795           72.0  2.0             92     101.0  ...            122  22.0   \n",
       "796           75.0  1.0             93     101.0  ...            122  51.0   \n",
       "797           72.0  2.0             92     101.0  ...            122  22.0   \n",
       "798           75.0  4.0             94     101.0  ...            123  54.0   \n",
       "799           72.0  4.0             93     101.0  ...            121  35.0   \n",
       "\n",
       "     instllment_type  housing_type  credits_no  job_type  libles  telephone  \\\n",
       "0                143         152.0           2       173       1        192   \n",
       "1                143         152.0           1       173       1        191   \n",
       "2                143         152.0           1       172       2        191   \n",
       "3                143         153.0           1       173       2        191   \n",
       "4                143         153.0           2       173       2        191   \n",
       "..               ...           ...         ...       ...     ...        ...   \n",
       "795              143         151.0           1       173       1        191   \n",
       "796              143         153.0           1       173       2        192   \n",
       "797              143         151.0           2       172       1        191   \n",
       "798              143         152.0           2       173       1        192   \n",
       "799              143         152.0           1       171       1        191   \n",
       "\n",
       "     foreigner  Group_no  \n",
       "0          201         3  \n",
       "1          201         1  \n",
       "2          201         2  \n",
       "3          201         1  \n",
       "4          201         1  \n",
       "..         ...       ...  \n",
       "795        201         2  \n",
       "796        201         1  \n",
       "797        201         3  \n",
       "798        201         3  \n",
       "799        201         2  \n",
       "\n",
       "[800 rows x 21 columns]>"
      ]
     },
     "execution_count": 67,
     "metadata": {},
     "output_type": "execute_result"
    }
   ],
   "source": [
    "tra.info\n"
   ]
  },
  {
   "cell_type": "code",
   "execution_count": 68,
   "id": "f3465580-1e70-455f-b1c0-cadaebf7c11a",
   "metadata": {},
   "outputs": [
    {
     "data": {
      "text/plain": [
       "5"
      ]
     },
     "execution_count": 68,
     "metadata": {},
     "output_type": "execute_result"
    }
   ],
   "source": [
    "tra.isnull().any().sum()"
   ]
  },
  {
   "cell_type": "code",
   "execution_count": 69,
   "id": "6ee1a92a-9e73-4a0c-9883-c54f8e0b9538",
   "metadata": {},
   "outputs": [],
   "source": [
    "tr=tra"
   ]
  },
  {
   "cell_type": "code",
   "execution_count": 70,
   "id": "1c920f32-b151-4b1e-a3ea-14655e32dca6",
   "metadata": {},
   "outputs": [],
   "source": [
    "tr.dropna(inplace=True)"
   ]
  },
  {
   "cell_type": "code",
   "execution_count": 71,
   "id": "bc083146-148c-4568-a692-d386adb65493",
   "metadata": {},
   "outputs": [
    {
     "data": {
      "text/plain": [
       "(761, 21)"
      ]
     },
     "execution_count": 71,
     "metadata": {},
     "output_type": "execute_result"
    }
   ],
   "source": [
    "tr.shape"
   ]
  },
  {
   "cell_type": "markdown",
   "id": "b84575cf-57ae-4561-8b05-bee97b7329a7",
   "metadata": {},
   "source": [
    "## Target Feature\n",
    "First we explore the values in the target column"
   ]
  },
  {
   "cell_type": "code",
   "execution_count": 72,
   "id": "bc9691b1-0f84-4ae4-9576-78e1ad0754c9",
   "metadata": {},
   "outputs": [],
   "source": [
    "target=tr['Group_no'].unique()"
   ]
  },
  {
   "cell_type": "code",
   "execution_count": 73,
   "id": "8b57213b-17f6-49ad-a9e4-1feea8bd50c3",
   "metadata": {},
   "outputs": [
    {
     "data": {
      "text/plain": [
       "array([3, 1, 2], dtype=int64)"
      ]
     },
     "execution_count": 73,
     "metadata": {},
     "output_type": "execute_result"
    }
   ],
   "source": [
    "target"
   ]
  },
  {
   "cell_type": "code",
   "execution_count": 74,
   "id": "71c7cf0b-66f3-4ebd-82f8-b8d0d52c393d",
   "metadata": {},
   "outputs": [
    {
     "data": {
      "image/svg+xml": [
       "<svg class=\"main-svg\" xmlns=\"http://www.w3.org/2000/svg\" xmlns:xlink=\"http://www.w3.org/1999/xlink\" width=\"800\" height=\"400\" style=\"\" viewBox=\"0 0 800 400\"><rect x=\"0\" y=\"0\" width=\"800\" height=\"400\" style=\"fill: rgb(255, 255, 255); fill-opacity: 1;\"/><defs id=\"defs-560ffc\"><g class=\"clips\"/><g class=\"gradients\"/><g class=\"patterns\"/></defs><g class=\"bglayer\"/><g class=\"layer-below\"><g class=\"imagelayer\"/><g class=\"shapelayer\"/></g><g class=\"cartesianlayer\"/><g class=\"polarlayer\"/><g class=\"smithlayer\"/><g class=\"ternarylayer\"/><g class=\"geolayer\"/><g class=\"funnelarealayer\"/><g class=\"pielayer\"><g class=\"trace\" stroke-linejoin=\"round\" style=\"opacity: 1;\"><g class=\"slice\"><path class=\"surface\" d=\"M400,190l0,-130a130,130 0 0 1 47.696475071253,250.93405750977405Z\" style=\"pointer-events: none; fill: rgb(0, 128, 128); fill-opacity: 1; stroke-width: 0; stroke: rgb(68, 68, 68); stroke-opacity: 1;\"/><g class=\"slicetext\"><text data-notex=\"1\" class=\"slicetext\" transform=\"translate(464.38421664541863,174.45001045426974)\" text-anchor=\"middle\" x=\"0\" y=\"0\" style=\"font-family: 'Open Sans', verdana, arial, sans-serif; font-size: 12px; fill: rgb(255, 255, 255); fill-opacity: 1; white-space: pre;\"><tspan class=\"line\" dy=\"0em\" x=\"0\" y=\"0\">2</tspan><tspan class=\"line\" dy=\"1.3em\" x=\"0\" y=\"0\">44%</tspan></text></g></g><g class=\"slice\"><path class=\"surface\" d=\"M400,190l-120.83534864291833,47.94599585308846a130,130 0 0 1 120.83534864291833,-177.94599585308845Z\" style=\"pointer-events: none; fill: rgb(218, 165, 32); fill-opacity: 1; stroke-width: 0; stroke: rgb(68, 68, 68); stroke-opacity: 1;\"/><g class=\"slicetext\"><text data-notex=\"1\" class=\"slicetext\" transform=\"translate(341.1045687302849,146.7285247897765)\" text-anchor=\"middle\" x=\"0\" y=\"0\" style=\"font-family: 'Open Sans', verdana, arial, sans-serif; font-size: 12px; fill: rgb(68, 68, 68); fill-opacity: 1; white-space: pre;\"><tspan class=\"line\" dy=\"0em\" x=\"0\" y=\"0\">3</tspan><tspan class=\"line\" dy=\"1.3em\" x=\"0\" y=\"0\">31%</tspan></text></g></g><g class=\"slice\"><path class=\"surface\" d=\"M400,190l47.696475071253076,120.93405750977404a130,130 0 0 1 -168.53182371417142,-72.98806165668557Z\" style=\"pointer-events: none; fill: rgb(106, 90, 205); fill-opacity: 1; stroke-width: 0; stroke: rgb(68, 68, 68); stroke-opacity: 1;\"/><g class=\"slicetext\"><text data-notex=\"1\" class=\"slicetext\" transform=\"translate(369.6840923504543,256.60553909795635)\" text-anchor=\"middle\" x=\"0\" y=\"0\" style=\"font-family: 'Open Sans', verdana, arial, sans-serif; font-size: 12px; fill: rgb(255, 255, 255); fill-opacity: 1; white-space: pre;\"><tspan class=\"line\" dy=\"0em\" x=\"0\" y=\"0\">1</tspan><tspan class=\"line\" dy=\"1.3em\" x=\"0\" y=\"0\">25%</tspan></text></g></g></g></g><g class=\"iciclelayer\"/><g class=\"treemaplayer\"/><g class=\"sunburstlayer\"/><g class=\"glimages\"/><defs id=\"topdefs-560ffc\"><g class=\"clips\"/></defs><g class=\"layer-above\"><g class=\"imagelayer\"/><g class=\"shapelayer\"/></g><g class=\"infolayer\"><g class=\"g-gtitle\"><text class=\"gtitle\" x=\"40\" y=\"30\" text-anchor=\"start\" dy=\"0em\" style=\"font-family: 'Open Sans', verdana, arial, sans-serif; font-size: 17px; fill: rgb(42, 63, 95); opacity: 1; font-weight: normal; white-space: pre;\">Distribution of Target</text></g></g></svg>"
      ]
     },
     "metadata": {},
     "output_type": "display_data"
    }
   ],
   "source": [
    "# Distribution of Target feature\n",
    "fig = px.pie(values= tr['Group_no'].value_counts(),names= tr['Group_no'].value_counts().index.to_list())\n",
    "\n",
    "fig.update_traces(textposition='inside', textinfo='percent+label',marker=dict(colors=['teal', 'goldenrod', 'slateblue']))\n",
    "\n",
    "fig.update_layout(showlegend = False, height=400, width=800, title='Distribution of Target')\n",
    "fig.write_image('fig.svg', engine='kaleido')\n",
    "fig.show('svg')"
   ]
  },
  {
   "cell_type": "markdown",
   "id": "545cee09-12ab-4156-ba15-6ae4635d2d5d",
   "metadata": {},
   "source": [
    "## Data preparation"
   ]
  },
  {
   "cell_type": "markdown",
   "id": "b30ac160-2b77-42f4-a763-ff6c43d10963",
   "metadata": {},
   "source": [
    "## \n",
    "Features selection\n",
    "The easiest way to view how independent features are correlated is through correlation analysis.\n",
    "\n",
    "This will help in feature selection and determine which independent variables can be dropped or combined to avoid Multicollinearity\n",
    "\n",
    "We can visualize this using heat\n",
    "maps\n",
    "\n"
   ]
  },
  {
   "cell_type": "code",
   "execution_count": 75,
   "id": "af86133b-90ef-40f0-9319-862effc67d71",
   "metadata": {},
   "outputs": [
    {
     "data": {
      "application/vnd.plotly.v1+json": {
       "config": {
        "plotlyServerURL": "https://plot.ly"
       },
       "data": [
        {
         "coloraxis": "coloraxis",
         "hovertemplate": "x: %{x}<br>y: %{y}<br>color: %{z}<extra></extra>",
         "name": "0",
         "texttemplate": "%{z}",
         "type": "heatmap",
         "x": [
          "sno",
          "cc_info",
          "durtion_month",
          "credit_history",
          "purpose",
          "svings_cc",
          "employment_st",
          "poi",
          "personl_sttus",
          "gurntors",
          "resident_since",
          "property_type",
          "ge",
          "instllment_type",
          "housing_type",
          "credits_no",
          "job_type",
          "libles",
          "telephone",
          "foreigner"
         ],
         "xaxis": "x",
         "y": [
          "sno",
          "cc_info",
          "durtion_month",
          "credit_history",
          "purpose",
          "svings_cc",
          "employment_st",
          "poi",
          "personl_sttus",
          "gurntors",
          "resident_since",
          "property_type",
          "ge",
          "instllment_type",
          "housing_type",
          "credits_no",
          "job_type",
          "libles",
          "telephone",
          "foreigner"
         ],
         "yaxis": "y",
         "z": [
          [
           1,
           0.02,
           -0.01,
           -0.02,
           -0.04,
           0.01,
           -0.01,
           0.01,
           -0.03,
           -0.01,
           0.03,
           0,
           -0.04,
           0,
           0,
           -0.01,
           -0.04,
           -0.01,
           -0.03,
           -0.06
          ],
          [
           0.02,
           1,
           -0.06,
           0.2,
           -0.06,
           0.2,
           0.12,
           0,
           0.04,
           -0.12,
           -0.03,
           -0.01,
           0.05,
           0.05,
           0.02,
           0.07,
           0.05,
           -0.06,
           0.08,
           -0.03
          ],
          [
           -0.01,
           -0.06,
           1,
           -0.08,
           0.1,
           0.05,
           0.07,
           0.09,
           0.02,
           -0.01,
           0.03,
           0.29,
           -0.04,
           -0.08,
           0.15,
           -0.01,
           0.2,
           -0.02,
           0.18,
           -0.15
          ],
          [
           -0.02,
           0.2,
           -0.08,
           1,
           0,
           0.02,
           0.1,
           0.03,
           0.03,
           -0.04,
           0.03,
           -0.03,
           0.16,
           0.1,
           0.06,
           0.43,
           0.02,
           0.01,
           0.05,
           0.03
          ],
          [
           -0.04,
           -0.06,
           0.1,
           0,
           1,
           -0.01,
           -0.02,
           0,
           0.02,
           0.08,
           0.05,
           0.1,
           0.05,
           -0.17,
           0.1,
           0.04,
           0.08,
           0.01,
           0.14,
           -0.03
          ],
          [
           0.01,
           0.2,
           0.05,
           0.02,
           -0.01,
           1,
           0.12,
           0.04,
           0.03,
           -0.11,
           0.1,
           0.02,
           0.09,
           -0.04,
           0.01,
           -0.03,
           0,
           0.04,
           0.09,
           0.02
          ],
          [
           -0.01,
           0.12,
           0.07,
           0.1,
           -0.02,
           0.12,
           1,
           0.14,
           0.08,
           0,
           0.25,
           0.11,
           0.26,
           -0.03,
           0.14,
           0.09,
           0.12,
           0.11,
           0.07,
           -0.03
          ],
          [
           0.01,
           0,
           0.09,
           0.03,
           0,
           0.04,
           0.14,
           1,
           0.09,
           0.01,
           0.05,
           0.02,
           0.08,
           0,
           0.07,
           0.02,
           0.1,
           -0.07,
           -0.01,
           -0.1
          ],
          [
           -0.03,
           0.04,
           0.02,
           0.03,
           0.02,
           0.03,
           0.08,
           0.09,
           1,
           0.05,
           -0.01,
           -0.03,
           0.03,
           -0.03,
           0.11,
           0.05,
           0,
           0.1,
           0.03,
           0.06
          ],
          [
           -0.01,
           -0.12,
           -0.01,
           -0.04,
           0.08,
           -0.11,
           0,
           0.01,
           0.05,
           1,
           -0.03,
           -0.16,
           -0.05,
           -0.03,
           -0.04,
           -0.01,
           -0.05,
           0.01,
           -0.07,
           0.09
          ],
          [
           0.03,
           -0.03,
           0.03,
           0.03,
           0.05,
           0.1,
           0.25,
           0.05,
           -0.01,
           -0.03,
           1,
           0.14,
           0.26,
           -0.01,
           0,
           0.07,
           0.02,
           0.04,
           0.11,
           -0.03
          ],
          [
           0,
           -0.01,
           0.29,
           -0.03,
           0.1,
           0.02,
           0.11,
           0.02,
           -0.03,
           -0.16,
           0.14,
           1,
           0.09,
           -0.11,
           0.35,
           0.02,
           0.28,
           0.02,
           0.2,
           -0.13
          ],
          [
           -0.04,
           0.05,
           -0.04,
           0.16,
           0.05,
           0.09,
           0.26,
           0.08,
           0.03,
           -0.05,
           0.26,
           0.09,
           1,
           -0.02,
           0.34,
           0.15,
           0.01,
           0.12,
           0.17,
           0.02
          ],
          [
           0,
           0.05,
           -0.08,
           0.1,
           -0.17,
           -0.04,
           -0.03,
           0,
           -0.03,
           -0.03,
           -0.01,
           -0.11,
           -0.02,
           1,
           -0.11,
           -0.06,
           0.02,
           -0.09,
           0,
           0.06
          ],
          [
           0,
           0.02,
           0.15,
           0.06,
           0.1,
           0.01,
           0.14,
           0.07,
           0.11,
           -0.04,
           0,
           0.35,
           0.34,
           -0.11,
           1,
           0.06,
           0.12,
           0.12,
           0.12,
           -0.06
          ],
          [
           -0.01,
           0.07,
           -0.01,
           0.43,
           0.04,
           -0.03,
           0.09,
           0.02,
           0.05,
           -0.01,
           0.07,
           0.02,
           0.15,
           -0.06,
           0.06,
           1,
           0,
           0.08,
           0.06,
           0.01
          ],
          [
           -0.04,
           0.05,
           0.2,
           0.02,
           0.08,
           0,
           0.12,
           0.1,
           0,
           -0.05,
           0.02,
           0.28,
           0.01,
           0.02,
           0.12,
           0,
           1,
           -0.08,
           0.35,
           -0.11
          ],
          [
           -0.01,
           -0.06,
           -0.02,
           0.01,
           0.01,
           0.04,
           0.11,
           -0.07,
           0.1,
           0.01,
           0.04,
           0.02,
           0.12,
           -0.09,
           0.12,
           0.08,
           -0.08,
           1,
           -0.03,
           0.08
          ],
          [
           -0.03,
           0.08,
           0.18,
           0.05,
           0.14,
           0.09,
           0.07,
           -0.01,
           0.03,
           -0.07,
           0.11,
           0.2,
           0.17,
           0,
           0.12,
           0.06,
           0.35,
           -0.03,
           1,
           -0.09
          ],
          [
           -0.06,
           -0.03,
           -0.15,
           0.03,
           -0.03,
           0.02,
           -0.03,
           -0.1,
           0.06,
           0.09,
           -0.03,
           -0.13,
           0.02,
           0.06,
           -0.06,
           0.01,
           -0.11,
           0.08,
           -0.09,
           1
          ]
         ]
        }
       ],
       "layout": {
        "coloraxis": {
         "colorscale": [
          [
           0,
           "rgb(5,48,97)"
          ],
          [
           0.1,
           "rgb(33,102,172)"
          ],
          [
           0.2,
           "rgb(67,147,195)"
          ],
          [
           0.3,
           "rgb(146,197,222)"
          ],
          [
           0.4,
           "rgb(209,229,240)"
          ],
          [
           0.5,
           "rgb(247,247,247)"
          ],
          [
           0.6,
           "rgb(253,219,199)"
          ],
          [
           0.7,
           "rgb(244,165,130)"
          ],
          [
           0.8,
           "rgb(214,96,77)"
          ],
          [
           0.9,
           "rgb(178,24,43)"
          ],
          [
           1,
           "rgb(103,0,31)"
          ]
         ]
        },
        "height": 800,
        "margin": {
         "t": 60
        },
        "template": {
         "data": {
          "bar": [
           {
            "error_x": {
             "color": "#2a3f5f"
            },
            "error_y": {
             "color": "#2a3f5f"
            },
            "marker": {
             "line": {
              "color": "#E5ECF6",
              "width": 0.5
             },
             "pattern": {
              "fillmode": "overlay",
              "size": 10,
              "solidity": 0.2
             }
            },
            "type": "bar"
           }
          ],
          "barpolar": [
           {
            "marker": {
             "line": {
              "color": "#E5ECF6",
              "width": 0.5
             },
             "pattern": {
              "fillmode": "overlay",
              "size": 10,
              "solidity": 0.2
             }
            },
            "type": "barpolar"
           }
          ],
          "carpet": [
           {
            "aaxis": {
             "endlinecolor": "#2a3f5f",
             "gridcolor": "white",
             "linecolor": "white",
             "minorgridcolor": "white",
             "startlinecolor": "#2a3f5f"
            },
            "baxis": {
             "endlinecolor": "#2a3f5f",
             "gridcolor": "white",
             "linecolor": "white",
             "minorgridcolor": "white",
             "startlinecolor": "#2a3f5f"
            },
            "type": "carpet"
           }
          ],
          "choropleth": [
           {
            "colorbar": {
             "outlinewidth": 0,
             "ticks": ""
            },
            "type": "choropleth"
           }
          ],
          "contour": [
           {
            "colorbar": {
             "outlinewidth": 0,
             "ticks": ""
            },
            "colorscale": [
             [
              0,
              "#0d0887"
             ],
             [
              0.1111111111111111,
              "#46039f"
             ],
             [
              0.2222222222222222,
              "#7201a8"
             ],
             [
              0.3333333333333333,
              "#9c179e"
             ],
             [
              0.4444444444444444,
              "#bd3786"
             ],
             [
              0.5555555555555556,
              "#d8576b"
             ],
             [
              0.6666666666666666,
              "#ed7953"
             ],
             [
              0.7777777777777778,
              "#fb9f3a"
             ],
             [
              0.8888888888888888,
              "#fdca26"
             ],
             [
              1,
              "#f0f921"
             ]
            ],
            "type": "contour"
           }
          ],
          "contourcarpet": [
           {
            "colorbar": {
             "outlinewidth": 0,
             "ticks": ""
            },
            "type": "contourcarpet"
           }
          ],
          "heatmap": [
           {
            "colorbar": {
             "outlinewidth": 0,
             "ticks": ""
            },
            "colorscale": [
             [
              0,
              "#0d0887"
             ],
             [
              0.1111111111111111,
              "#46039f"
             ],
             [
              0.2222222222222222,
              "#7201a8"
             ],
             [
              0.3333333333333333,
              "#9c179e"
             ],
             [
              0.4444444444444444,
              "#bd3786"
             ],
             [
              0.5555555555555556,
              "#d8576b"
             ],
             [
              0.6666666666666666,
              "#ed7953"
             ],
             [
              0.7777777777777778,
              "#fb9f3a"
             ],
             [
              0.8888888888888888,
              "#fdca26"
             ],
             [
              1,
              "#f0f921"
             ]
            ],
            "type": "heatmap"
           }
          ],
          "heatmapgl": [
           {
            "colorbar": {
             "outlinewidth": 0,
             "ticks": ""
            },
            "colorscale": [
             [
              0,
              "#0d0887"
             ],
             [
              0.1111111111111111,
              "#46039f"
             ],
             [
              0.2222222222222222,
              "#7201a8"
             ],
             [
              0.3333333333333333,
              "#9c179e"
             ],
             [
              0.4444444444444444,
              "#bd3786"
             ],
             [
              0.5555555555555556,
              "#d8576b"
             ],
             [
              0.6666666666666666,
              "#ed7953"
             ],
             [
              0.7777777777777778,
              "#fb9f3a"
             ],
             [
              0.8888888888888888,
              "#fdca26"
             ],
             [
              1,
              "#f0f921"
             ]
            ],
            "type": "heatmapgl"
           }
          ],
          "histogram": [
           {
            "marker": {
             "pattern": {
              "fillmode": "overlay",
              "size": 10,
              "solidity": 0.2
             }
            },
            "type": "histogram"
           }
          ],
          "histogram2d": [
           {
            "colorbar": {
             "outlinewidth": 0,
             "ticks": ""
            },
            "colorscale": [
             [
              0,
              "#0d0887"
             ],
             [
              0.1111111111111111,
              "#46039f"
             ],
             [
              0.2222222222222222,
              "#7201a8"
             ],
             [
              0.3333333333333333,
              "#9c179e"
             ],
             [
              0.4444444444444444,
              "#bd3786"
             ],
             [
              0.5555555555555556,
              "#d8576b"
             ],
             [
              0.6666666666666666,
              "#ed7953"
             ],
             [
              0.7777777777777778,
              "#fb9f3a"
             ],
             [
              0.8888888888888888,
              "#fdca26"
             ],
             [
              1,
              "#f0f921"
             ]
            ],
            "type": "histogram2d"
           }
          ],
          "histogram2dcontour": [
           {
            "colorbar": {
             "outlinewidth": 0,
             "ticks": ""
            },
            "colorscale": [
             [
              0,
              "#0d0887"
             ],
             [
              0.1111111111111111,
              "#46039f"
             ],
             [
              0.2222222222222222,
              "#7201a8"
             ],
             [
              0.3333333333333333,
              "#9c179e"
             ],
             [
              0.4444444444444444,
              "#bd3786"
             ],
             [
              0.5555555555555556,
              "#d8576b"
             ],
             [
              0.6666666666666666,
              "#ed7953"
             ],
             [
              0.7777777777777778,
              "#fb9f3a"
             ],
             [
              0.8888888888888888,
              "#fdca26"
             ],
             [
              1,
              "#f0f921"
             ]
            ],
            "type": "histogram2dcontour"
           }
          ],
          "mesh3d": [
           {
            "colorbar": {
             "outlinewidth": 0,
             "ticks": ""
            },
            "type": "mesh3d"
           }
          ],
          "parcoords": [
           {
            "line": {
             "colorbar": {
              "outlinewidth": 0,
              "ticks": ""
             }
            },
            "type": "parcoords"
           }
          ],
          "pie": [
           {
            "automargin": true,
            "type": "pie"
           }
          ],
          "scatter": [
           {
            "fillpattern": {
             "fillmode": "overlay",
             "size": 10,
             "solidity": 0.2
            },
            "type": "scatter"
           }
          ],
          "scatter3d": [
           {
            "line": {
             "colorbar": {
              "outlinewidth": 0,
              "ticks": ""
             }
            },
            "marker": {
             "colorbar": {
              "outlinewidth": 0,
              "ticks": ""
             }
            },
            "type": "scatter3d"
           }
          ],
          "scattercarpet": [
           {
            "marker": {
             "colorbar": {
              "outlinewidth": 0,
              "ticks": ""
             }
            },
            "type": "scattercarpet"
           }
          ],
          "scattergeo": [
           {
            "marker": {
             "colorbar": {
              "outlinewidth": 0,
              "ticks": ""
             }
            },
            "type": "scattergeo"
           }
          ],
          "scattergl": [
           {
            "marker": {
             "colorbar": {
              "outlinewidth": 0,
              "ticks": ""
             }
            },
            "type": "scattergl"
           }
          ],
          "scattermapbox": [
           {
            "marker": {
             "colorbar": {
              "outlinewidth": 0,
              "ticks": ""
             }
            },
            "type": "scattermapbox"
           }
          ],
          "scatterpolar": [
           {
            "marker": {
             "colorbar": {
              "outlinewidth": 0,
              "ticks": ""
             }
            },
            "type": "scatterpolar"
           }
          ],
          "scatterpolargl": [
           {
            "marker": {
             "colorbar": {
              "outlinewidth": 0,
              "ticks": ""
             }
            },
            "type": "scatterpolargl"
           }
          ],
          "scatterternary": [
           {
            "marker": {
             "colorbar": {
              "outlinewidth": 0,
              "ticks": ""
             }
            },
            "type": "scatterternary"
           }
          ],
          "surface": [
           {
            "colorbar": {
             "outlinewidth": 0,
             "ticks": ""
            },
            "colorscale": [
             [
              0,
              "#0d0887"
             ],
             [
              0.1111111111111111,
              "#46039f"
             ],
             [
              0.2222222222222222,
              "#7201a8"
             ],
             [
              0.3333333333333333,
              "#9c179e"
             ],
             [
              0.4444444444444444,
              "#bd3786"
             ],
             [
              0.5555555555555556,
              "#d8576b"
             ],
             [
              0.6666666666666666,
              "#ed7953"
             ],
             [
              0.7777777777777778,
              "#fb9f3a"
             ],
             [
              0.8888888888888888,
              "#fdca26"
             ],
             [
              1,
              "#f0f921"
             ]
            ],
            "type": "surface"
           }
          ],
          "table": [
           {
            "cells": {
             "fill": {
              "color": "#EBF0F8"
             },
             "line": {
              "color": "white"
             }
            },
            "header": {
             "fill": {
              "color": "#C8D4E3"
             },
             "line": {
              "color": "white"
             }
            },
            "type": "table"
           }
          ]
         },
         "layout": {
          "annotationdefaults": {
           "arrowcolor": "#2a3f5f",
           "arrowhead": 0,
           "arrowwidth": 1
          },
          "autotypenumbers": "strict",
          "coloraxis": {
           "colorbar": {
            "outlinewidth": 0,
            "ticks": ""
           }
          },
          "colorscale": {
           "diverging": [
            [
             0,
             "#8e0152"
            ],
            [
             0.1,
             "#c51b7d"
            ],
            [
             0.2,
             "#de77ae"
            ],
            [
             0.3,
             "#f1b6da"
            ],
            [
             0.4,
             "#fde0ef"
            ],
            [
             0.5,
             "#f7f7f7"
            ],
            [
             0.6,
             "#e6f5d0"
            ],
            [
             0.7,
             "#b8e186"
            ],
            [
             0.8,
             "#7fbc41"
            ],
            [
             0.9,
             "#4d9221"
            ],
            [
             1,
             "#276419"
            ]
           ],
           "sequential": [
            [
             0,
             "#0d0887"
            ],
            [
             0.1111111111111111,
             "#46039f"
            ],
            [
             0.2222222222222222,
             "#7201a8"
            ],
            [
             0.3333333333333333,
             "#9c179e"
            ],
            [
             0.4444444444444444,
             "#bd3786"
            ],
            [
             0.5555555555555556,
             "#d8576b"
            ],
            [
             0.6666666666666666,
             "#ed7953"
            ],
            [
             0.7777777777777778,
             "#fb9f3a"
            ],
            [
             0.8888888888888888,
             "#fdca26"
            ],
            [
             1,
             "#f0f921"
            ]
           ],
           "sequentialminus": [
            [
             0,
             "#0d0887"
            ],
            [
             0.1111111111111111,
             "#46039f"
            ],
            [
             0.2222222222222222,
             "#7201a8"
            ],
            [
             0.3333333333333333,
             "#9c179e"
            ],
            [
             0.4444444444444444,
             "#bd3786"
            ],
            [
             0.5555555555555556,
             "#d8576b"
            ],
            [
             0.6666666666666666,
             "#ed7953"
            ],
            [
             0.7777777777777778,
             "#fb9f3a"
            ],
            [
             0.8888888888888888,
             "#fdca26"
            ],
            [
             1,
             "#f0f921"
            ]
           ]
          },
          "colorway": [
           "#636efa",
           "#EF553B",
           "#00cc96",
           "#ab63fa",
           "#FFA15A",
           "#19d3f3",
           "#FF6692",
           "#B6E880",
           "#FF97FF",
           "#FECB52"
          ],
          "font": {
           "color": "#2a3f5f"
          },
          "geo": {
           "bgcolor": "white",
           "lakecolor": "white",
           "landcolor": "#E5ECF6",
           "showlakes": true,
           "showland": true,
           "subunitcolor": "white"
          },
          "hoverlabel": {
           "align": "left"
          },
          "hovermode": "closest",
          "mapbox": {
           "style": "light"
          },
          "paper_bgcolor": "white",
          "plot_bgcolor": "#E5ECF6",
          "polar": {
           "angularaxis": {
            "gridcolor": "white",
            "linecolor": "white",
            "ticks": ""
           },
           "bgcolor": "#E5ECF6",
           "radialaxis": {
            "gridcolor": "white",
            "linecolor": "white",
            "ticks": ""
           }
          },
          "scene": {
           "xaxis": {
            "backgroundcolor": "#E5ECF6",
            "gridcolor": "white",
            "gridwidth": 2,
            "linecolor": "white",
            "showbackground": true,
            "ticks": "",
            "zerolinecolor": "white"
           },
           "yaxis": {
            "backgroundcolor": "#E5ECF6",
            "gridcolor": "white",
            "gridwidth": 2,
            "linecolor": "white",
            "showbackground": true,
            "ticks": "",
            "zerolinecolor": "white"
           },
           "zaxis": {
            "backgroundcolor": "#E5ECF6",
            "gridcolor": "white",
            "gridwidth": 2,
            "linecolor": "white",
            "showbackground": true,
            "ticks": "",
            "zerolinecolor": "white"
           }
          },
          "shapedefaults": {
           "line": {
            "color": "#2a3f5f"
           }
          },
          "ternary": {
           "aaxis": {
            "gridcolor": "white",
            "linecolor": "white",
            "ticks": ""
           },
           "baxis": {
            "gridcolor": "white",
            "linecolor": "white",
            "ticks": ""
           },
           "bgcolor": "#E5ECF6",
           "caxis": {
            "gridcolor": "white",
            "linecolor": "white",
            "ticks": ""
           }
          },
          "title": {
           "x": 0.05
          },
          "xaxis": {
           "automargin": true,
           "gridcolor": "white",
           "linecolor": "white",
           "ticks": "",
           "title": {
            "standoff": 15
           },
           "zerolinecolor": "white",
           "zerolinewidth": 2
          },
          "yaxis": {
           "automargin": true,
           "gridcolor": "white",
           "linecolor": "white",
           "ticks": "",
           "title": {
            "standoff": 15
           },
           "zerolinecolor": "white",
           "zerolinewidth": 2
          }
         }
        },
        "title": {
         "text": "Correlation Analysis for independent features"
        },
        "width": 1500,
        "xaxis": {
         "anchor": "y",
         "autorange": true,
         "domain": [
          0,
          1
         ],
         "range": [
          -0.5,
          19.5
         ],
         "type": "category"
        },
        "yaxis": {
         "anchor": "x",
         "autorange": true,
         "domain": [
          0,
          1
         ],
         "range": [
          19.5,
          -0.5
         ],
         "type": "category"
        }
       }
      },
      "image/png": "[encoded data removed]",
      "text/html": [
       "<div>                            <div id=\"0fe274a2-d907-4fd0-9f9e-5e92f87682e0\" class=\"plotly-graph-div\" style=\"height:800px; width:1500px;\"></div>            <script type=\"text/javascript\">                require([\"plotly\"], function(Plotly) {                    window.PLOTLYENV=window.PLOTLYENV || {};                                    if (document.getElementById(\"0fe274a2-d907-4fd0-9f9e-5e92f87682e0\")) {                    Plotly.newPlot(                        \"0fe274a2-d907-4fd0-9f9e-5e92f87682e0\",                        [{\"coloraxis\":\"coloraxis\",\"name\":\"0\",\"texttemplate\":\"%{z}\",\"x\":[\"sno\",\"cc_info\",\"durtion_month\",\"credit_history\",\"purpose\",\"svings_cc\",\"employment_st\",\"poi\",\"personl_sttus\",\"gurntors\",\"resident_since\",\"property_type\",\"ge\",\"instllment_type\",\"housing_type\",\"credits_no\",\"job_type\",\"libles\",\"telephone\",\"foreigner\"],\"y\":[\"sno\",\"cc_info\",\"durtion_month\",\"credit_history\",\"purpose\",\"svings_cc\",\"employment_st\",\"poi\",\"personl_sttus\",\"gurntors\",\"resident_since\",\"property_type\",\"ge\",\"instllment_type\",\"housing_type\",\"credits_no\",\"job_type\",\"libles\",\"telephone\",\"foreigner\"],\"z\":[[1.0,0.02,-0.01,-0.02,-0.04,0.01,-0.01,0.01,-0.03,-0.01,0.03,-0.0,-0.04,-0.0,-0.0,-0.01,-0.04,-0.01,-0.03,-0.06],[0.02,1.0,-0.06,0.2,-0.06,0.2,0.12,-0.0,0.04,-0.12,-0.03,-0.01,0.05,0.05,0.02,0.07,0.05,-0.06,0.08,-0.03],[-0.01,-0.06,1.0,-0.08,0.1,0.05,0.07,0.09,0.02,-0.01,0.03,0.29,-0.04,-0.08,0.15,-0.01,0.2,-0.02,0.18,-0.15],[-0.02,0.2,-0.08,1.0,-0.0,0.02,0.1,0.03,0.03,-0.04,0.03,-0.03,0.16,0.1,0.06,0.43,0.02,0.01,0.05,0.03],[-0.04,-0.06,0.1,-0.0,1.0,-0.01,-0.02,0.0,0.02,0.08,0.05,0.1,0.05,-0.17,0.1,0.04,0.08,0.01,0.14,-0.03],[0.01,0.2,0.05,0.02,-0.01,1.0,0.12,0.04,0.03,-0.11,0.1,0.02,0.09,-0.04,0.01,-0.03,-0.0,0.04,0.09,0.02],[-0.01,0.12,0.07,0.1,-0.02,0.12,1.0,0.14,0.08,0.0,0.25,0.11,0.26,-0.03,0.14,0.09,0.12,0.11,0.07,-0.03],[0.01,-0.0,0.09,0.03,0.0,0.04,0.14,1.0,0.09,0.01,0.05,0.02,0.08,-0.0,0.07,0.02,0.1,-0.07,-0.01,-0.1],[-0.03,0.04,0.02,0.03,0.02,0.03,0.08,0.09,1.0,0.05,-0.01,-0.03,0.03,-0.03,0.11,0.05,0.0,0.1,0.03,0.06],[-0.01,-0.12,-0.01,-0.04,0.08,-0.11,0.0,0.01,0.05,1.0,-0.03,-0.16,-0.05,-0.03,-0.04,-0.01,-0.05,0.01,-0.07,0.09],[0.03,-0.03,0.03,0.03,0.05,0.1,0.25,0.05,-0.01,-0.03,1.0,0.14,0.26,-0.01,-0.0,0.07,0.02,0.04,0.11,-0.03],[-0.0,-0.01,0.29,-0.03,0.1,0.02,0.11,0.02,-0.03,-0.16,0.14,1.0,0.09,-0.11,0.35,0.02,0.28,0.02,0.2,-0.13],[-0.04,0.05,-0.04,0.16,0.05,0.09,0.26,0.08,0.03,-0.05,0.26,0.09,1.0,-0.02,0.34,0.15,0.01,0.12,0.17,0.02],[-0.0,0.05,-0.08,0.1,-0.17,-0.04,-0.03,-0.0,-0.03,-0.03,-0.01,-0.11,-0.02,1.0,-0.11,-0.06,0.02,-0.09,0.0,0.06],[-0.0,0.02,0.15,0.06,0.1,0.01,0.14,0.07,0.11,-0.04,-0.0,0.35,0.34,-0.11,1.0,0.06,0.12,0.12,0.12,-0.06],[-0.01,0.07,-0.01,0.43,0.04,-0.03,0.09,0.02,0.05,-0.01,0.07,0.02,0.15,-0.06,0.06,1.0,0.0,0.08,0.06,0.01],[-0.04,0.05,0.2,0.02,0.08,-0.0,0.12,0.1,0.0,-0.05,0.02,0.28,0.01,0.02,0.12,0.0,1.0,-0.08,0.35,-0.11],[-0.01,-0.06,-0.02,0.01,0.01,0.04,0.11,-0.07,0.1,0.01,0.04,0.02,0.12,-0.09,0.12,0.08,-0.08,1.0,-0.03,0.08],[-0.03,0.08,0.18,0.05,0.14,0.09,0.07,-0.01,0.03,-0.07,0.11,0.2,0.17,0.0,0.12,0.06,0.35,-0.03,1.0,-0.09],[-0.06,-0.03,-0.15,0.03,-0.03,0.02,-0.03,-0.1,0.06,0.09,-0.03,-0.13,0.02,0.06,-0.06,0.01,-0.11,0.08,-0.09,1.0]],\"type\":\"heatmap\",\"xaxis\":\"x\",\"yaxis\":\"y\",\"hovertemplate\":\"x: %{x}\\u003cbr\\u003ey: %{y}\\u003cbr\\u003ecolor: %{z}\\u003cextra\\u003e\\u003c\\u002fextra\\u003e\"}],                        {\"template\":{\"data\":{\"histogram2dcontour\":[{\"type\":\"histogram2dcontour\",\"colorbar\":{\"outlinewidth\":0,\"ticks\":\"\"},\"colorscale\":[[0.0,\"#0d0887\"],[0.1111111111111111,\"#46039f\"],[0.2222222222222222,\"#7201a8\"],[0.3333333333333333,\"#9c179e\"],[0.4444444444444444,\"#bd3786\"],[0.5555555555555556,\"#d8576b\"],[0.6666666666666666,\"#ed7953\"],[0.7777777777777778,\"#fb9f3a\"],[0.8888888888888888,\"#fdca26\"],[1.0,\"#f0f921\"]]}],\"choropleth\":[{\"type\":\"choropleth\",\"colorbar\":{\"outlinewidth\":0,\"ticks\":\"\"}}],\"histogram2d\":[{\"type\":\"histogram2d\",\"colorbar\":{\"outlinewidth\":0,\"ticks\":\"\"},\"colorscale\":[[0.0,\"#0d0887\"],[0.1111111111111111,\"#46039f\"],[0.2222222222222222,\"#7201a8\"],[0.3333333333333333,\"#9c179e\"],[0.4444444444444444,\"#bd3786\"],[0.5555555555555556,\"#d8576b\"],[0.6666666666666666,\"#ed7953\"],[0.7777777777777778,\"#fb9f3a\"],[0.8888888888888888,\"#fdca26\"],[1.0,\"#f0f921\"]]}],\"heatmap\":[{\"type\":\"heatmap\",\"colorbar\":{\"outlinewidth\":0,\"ticks\":\"\"},\"colorscale\":[[0.0,\"#0d0887\"],[0.1111111111111111,\"#46039f\"],[0.2222222222222222,\"#7201a8\"],[0.3333333333333333,\"#9c179e\"],[0.4444444444444444,\"#bd3786\"],[0.5555555555555556,\"#d8576b\"],[0.6666666666666666,\"#ed7953\"],[0.7777777777777778,\"#fb9f3a\"],[0.8888888888888888,\"#fdca26\"],[1.0,\"#f0f921\"]]}],\"heatmapgl\":[{\"type\":\"heatmapgl\",\"colorbar\":{\"outlinewidth\":0,\"ticks\":\"\"},\"colorscale\":[[0.0,\"#0d0887\"],[0.1111111111111111,\"#46039f\"],[0.2222222222222222,\"#7201a8\"],[0.3333333333333333,\"#9c179e\"],[0.4444444444444444,\"#bd3786\"],[0.5555555555555556,\"#d8576b\"],[0.6666666666666666,\"#ed7953\"],[0.7777777777777778,\"#fb9f3a\"],[0.8888888888888888,\"#fdca26\"],[1.0,\"#f0f921\"]]}],\"contourcarpet\":[{\"type\":\"contourcarpet\",\"colorbar\":{\"outlinewidth\":0,\"ticks\":\"\"}}],\"contour\":[{\"type\":\"contour\",\"colorbar\":{\"outlinewidth\":0,\"ticks\":\"\"},\"colorscale\":[[0.0,\"#0d0887\"],[0.1111111111111111,\"#46039f\"],[0.2222222222222222,\"#7201a8\"],[0.3333333333333333,\"#9c179e\"],[0.4444444444444444,\"#bd3786\"],[0.5555555555555556,\"#d8576b\"],[0.6666666666666666,\"#ed7953\"],[0.7777777777777778,\"#fb9f3a\"],[0.8888888888888888,\"#fdca26\"],[1.0,\"#f0f921\"]]}],\"surface\":[{\"type\":\"surface\",\"colorbar\":{\"outlinewidth\":0,\"ticks\":\"\"},\"colorscale\":[[0.0,\"#0d0887\"],[0.1111111111111111,\"#46039f\"],[0.2222222222222222,\"#7201a8\"],[0.3333333333333333,\"#9c179e\"],[0.4444444444444444,\"#bd3786\"],[0.5555555555555556,\"#d8576b\"],[0.6666666666666666,\"#ed7953\"],[0.7777777777777778,\"#fb9f3a\"],[0.8888888888888888,\"#fdca26\"],[1.0,\"#f0f921\"]]}],\"mesh3d\":[{\"type\":\"mesh3d\",\"colorbar\":{\"outlinewidth\":0,\"ticks\":\"\"}}],\"scatter\":[{\"fillpattern\":{\"fillmode\":\"overlay\",\"size\":10,\"solidity\":0.2},\"type\":\"scatter\"}],\"parcoords\":[{\"type\":\"parcoords\",\"line\":{\"colorbar\":{\"outlinewidth\":0,\"ticks\":\"\"}}}],\"scatterpolargl\":[{\"type\":\"scatterpolargl\",\"marker\":{\"colorbar\":{\"outlinewidth\":0,\"ticks\":\"\"}}}],\"bar\":[{\"error_x\":{\"color\":\"#2a3f5f\"},\"error_y\":{\"color\":\"#2a3f5f\"},\"marker\":{\"line\":{\"color\":\"#E5ECF6\",\"width\":0.5},\"pattern\":{\"fillmode\":\"overlay\",\"size\":10,\"solidity\":0.2}},\"type\":\"bar\"}],\"scattergeo\":[{\"type\":\"scattergeo\",\"marker\":{\"colorbar\":{\"outlinewidth\":0,\"ticks\":\"\"}}}],\"scatterpolar\":[{\"type\":\"scatterpolar\",\"marker\":{\"colorbar\":{\"outlinewidth\":0,\"ticks\":\"\"}}}],\"histogram\":[{\"marker\":{\"pattern\":{\"fillmode\":\"overlay\",\"size\":10,\"solidity\":0.2}},\"type\":\"histogram\"}],\"scattergl\":[{\"type\":\"scattergl\",\"marker\":{\"colorbar\":{\"outlinewidth\":0,\"ticks\":\"\"}}}],\"scatter3d\":[{\"type\":\"scatter3d\",\"line\":{\"colorbar\":{\"outlinewidth\":0,\"ticks\":\"\"}},\"marker\":{\"colorbar\":{\"outlinewidth\":0,\"ticks\":\"\"}}}],\"scattermapbox\":[{\"type\":\"scattermapbox\",\"marker\":{\"colorbar\":{\"outlinewidth\":0,\"ticks\":\"\"}}}],\"scatterternary\":[{\"type\":\"scatterternary\",\"marker\":{\"colorbar\":{\"outlinewidth\":0,\"ticks\":\"\"}}}],\"scattercarpet\":[{\"type\":\"scattercarpet\",\"marker\":{\"colorbar\":{\"outlinewidth\":0,\"ticks\":\"\"}}}],\"carpet\":[{\"aaxis\":{\"endlinecolor\":\"#2a3f5f\",\"gridcolor\":\"white\",\"linecolor\":\"white\",\"minorgridcolor\":\"white\",\"startlinecolor\":\"#2a3f5f\"},\"baxis\":{\"endlinecolor\":\"#2a3f5f\",\"gridcolor\":\"white\",\"linecolor\":\"white\",\"minorgridcolor\":\"white\",\"startlinecolor\":\"#2a3f5f\"},\"type\":\"carpet\"}],\"table\":[{\"cells\":{\"fill\":{\"color\":\"#EBF0F8\"},\"line\":{\"color\":\"white\"}},\"header\":{\"fill\":{\"color\":\"#C8D4E3\"},\"line\":{\"color\":\"white\"}},\"type\":\"table\"}],\"barpolar\":[{\"marker\":{\"line\":{\"color\":\"#E5ECF6\",\"width\":0.5},\"pattern\":{\"fillmode\":\"overlay\",\"size\":10,\"solidity\":0.2}},\"type\":\"barpolar\"}],\"pie\":[{\"automargin\":true,\"type\":\"pie\"}]},\"layout\":{\"autotypenumbers\":\"strict\",\"colorway\":[\"#636efa\",\"#EF553B\",\"#00cc96\",\"#ab63fa\",\"#FFA15A\",\"#19d3f3\",\"#FF6692\",\"#B6E880\",\"#FF97FF\",\"#FECB52\"],\"font\":{\"color\":\"#2a3f5f\"},\"hovermode\":\"closest\",\"hoverlabel\":{\"align\":\"left\"},\"paper_bgcolor\":\"white\",\"plot_bgcolor\":\"#E5ECF6\",\"polar\":{\"bgcolor\":\"#E5ECF6\",\"angularaxis\":{\"gridcolor\":\"white\",\"linecolor\":\"white\",\"ticks\":\"\"},\"radialaxis\":{\"gridcolor\":\"white\",\"linecolor\":\"white\",\"ticks\":\"\"}},\"ternary\":{\"bgcolor\":\"#E5ECF6\",\"aaxis\":{\"gridcolor\":\"white\",\"linecolor\":\"white\",\"ticks\":\"\"},\"baxis\":{\"gridcolor\":\"white\",\"linecolor\":\"white\",\"ticks\":\"\"},\"caxis\":{\"gridcolor\":\"white\",\"linecolor\":\"white\",\"ticks\":\"\"}},\"coloraxis\":{\"colorbar\":{\"outlinewidth\":0,\"ticks\":\"\"}},\"colorscale\":{\"sequential\":[[0.0,\"#0d0887\"],[0.1111111111111111,\"#46039f\"],[0.2222222222222222,\"#7201a8\"],[0.3333333333333333,\"#9c179e\"],[0.4444444444444444,\"#bd3786\"],[0.5555555555555556,\"#d8576b\"],[0.6666666666666666,\"#ed7953\"],[0.7777777777777778,\"#fb9f3a\"],[0.8888888888888888,\"#fdca26\"],[1.0,\"#f0f921\"]],\"sequentialminus\":[[0.0,\"#0d0887\"],[0.1111111111111111,\"#46039f\"],[0.2222222222222222,\"#7201a8\"],[0.3333333333333333,\"#9c179e\"],[0.4444444444444444,\"#bd3786\"],[0.5555555555555556,\"#d8576b\"],[0.6666666666666666,\"#ed7953\"],[0.7777777777777778,\"#fb9f3a\"],[0.8888888888888888,\"#fdca26\"],[1.0,\"#f0f921\"]],\"diverging\":[[0,\"#8e0152\"],[0.1,\"#c51b7d\"],[0.2,\"#de77ae\"],[0.3,\"#f1b6da\"],[0.4,\"#fde0ef\"],[0.5,\"#f7f7f7\"],[0.6,\"#e6f5d0\"],[0.7,\"#b8e186\"],[0.8,\"#7fbc41\"],[0.9,\"#4d9221\"],[1,\"#276419\"]]},\"xaxis\":{\"gridcolor\":\"white\",\"linecolor\":\"white\",\"ticks\":\"\",\"title\":{\"standoff\":15},\"zerolinecolor\":\"white\",\"automargin\":true,\"zerolinewidth\":2},\"yaxis\":{\"gridcolor\":\"white\",\"linecolor\":\"white\",\"ticks\":\"\",\"title\":{\"standoff\":15},\"zerolinecolor\":\"white\",\"automargin\":true,\"zerolinewidth\":2},\"scene\":{\"xaxis\":{\"backgroundcolor\":\"#E5ECF6\",\"gridcolor\":\"white\",\"linecolor\":\"white\",\"showbackground\":true,\"ticks\":\"\",\"zerolinecolor\":\"white\",\"gridwidth\":2},\"yaxis\":{\"backgroundcolor\":\"#E5ECF6\",\"gridcolor\":\"white\",\"linecolor\":\"white\",\"showbackground\":true,\"ticks\":\"\",\"zerolinecolor\":\"white\",\"gridwidth\":2},\"zaxis\":{\"backgroundcolor\":\"#E5ECF6\",\"gridcolor\":\"white\",\"linecolor\":\"white\",\"showbackground\":true,\"ticks\":\"\",\"zerolinecolor\":\"white\",\"gridwidth\":2}},\"shapedefaults\":{\"line\":{\"color\":\"#2a3f5f\"}},\"annotationdefaults\":{\"arrowcolor\":\"#2a3f5f\",\"arrowhead\":0,\"arrowwidth\":1},\"geo\":{\"bgcolor\":\"white\",\"landcolor\":\"#E5ECF6\",\"subunitcolor\":\"white\",\"showland\":true,\"showlakes\":true,\"lakecolor\":\"white\"},\"title\":{\"x\":0.05},\"mapbox\":{\"style\":\"light\"}}},\"xaxis\":{\"anchor\":\"y\",\"domain\":[0.0,1.0]},\"yaxis\":{\"anchor\":\"x\",\"domain\":[0.0,1.0],\"autorange\":\"reversed\"},\"coloraxis\":{\"colorscale\":[[0.0,\"rgb(5,48,97)\"],[0.1,\"rgb(33,102,172)\"],[0.2,\"rgb(67,147,195)\"],[0.3,\"rgb(146,197,222)\"],[0.4,\"rgb(209,229,240)\"],[0.5,\"rgb(247,247,247)\"],[0.6,\"rgb(253,219,199)\"],[0.7,\"rgb(244,165,130)\"],[0.8,\"rgb(214,96,77)\"],[0.9,\"rgb(178,24,43)\"],[1.0,\"rgb(103,0,31)\"]]},\"margin\":{\"t\":60},\"title\":{\"text\":\"Correlation Analysis for independent features\"},\"height\":800,\"width\":1500},                        {\"responsive\": true}                    ).then(function(){\n",
       "                            \n",
       "var gd = document.getElementById('0fe274a2-d907-4fd0-9f9e-5e92f87682e0');\n",
       "var x = new MutationObserver(function (mutations, observer) {{\n",
       "        var display = window.getComputedStyle(gd).display;\n",
       "        if (!display || display === 'none') {{\n",
       "            console.log([gd, 'removed!']);\n",
       "            Plotly.purge(gd);\n",
       "            observer.disconnect();\n",
       "        }}\n",
       "}});\n",
       "\n",
       "// Listen for the removal of the full notebook cells\n",
       "var notebookContainer = gd.closest('#notebook-container');\n",
       "if (notebookContainer) {{\n",
       "    x.observe(notebookContainer, {childList: true});\n",
       "}}\n",
       "\n",
       "// Listen for the clearing of the current output cell\n",
       "var outputEl = gd.closest('.output');\n",
       "if (outputEl) {{\n",
       "    x.observe(outputEl, {childList: true});\n",
       "}}\n",
       "\n",
       "                        })                };                });            </script>        </div>"
      ]
     },
     "metadata": {},
     "output_type": "display_data"
    }
   ],
   "source": [
    "fig = px.imshow(tra.drop('Group_no', axis = 1).corr().round(2), text_auto=True, aspect=\"auto\", color_continuous_scale='RdBu_r')\n",
    "fig.update_layout(title = 'Correlation Analysis for independent features', height=800, width=1500)"
   ]
  },
  {
   "cell_type": "code",
   "execution_count": 76,
   "id": "0d46941a-95dc-4a95-a61a-fb44d8c41589",
   "metadata": {},
   "outputs": [
    {
     "data": {
      "text/html": [
       "<div>\n",
       "<style scoped>\n",
       "    .dataframe tbody tr th:only-of-type {\n",
       "        vertical-align: middle;\n",
       "    }\n",
       "\n",
       "    .dataframe tbody tr th {\n",
       "        vertical-align: top;\n",
       "    }\n",
       "\n",
       "    .dataframe thead th {\n",
       "        text-align: right;\n",
       "    }\n",
       "</style>\n",
       "<table border=\"1\" class=\"dataframe\">\n",
       "  <thead>\n",
       "    <tr style=\"text-align: right;\">\n",
       "      <th></th>\n",
       "      <th>sno</th>\n",
       "      <th>acc_info</th>\n",
       "      <th>duration_month</th>\n",
       "      <th>credit_history</th>\n",
       "      <th>purpose</th>\n",
       "      <th>savings_acc</th>\n",
       "      <th>employment_st</th>\n",
       "      <th>poi</th>\n",
       "      <th>personal_status</th>\n",
       "      <th>gurantors</th>\n",
       "      <th>resident_since</th>\n",
       "      <th>property_type</th>\n",
       "      <th>age</th>\n",
       "      <th>installment_type</th>\n",
       "      <th>housing_type</th>\n",
       "      <th>credits_no</th>\n",
       "      <th>job_type</th>\n",
       "      <th>liables</th>\n",
       "      <th>telephone</th>\n",
       "      <th>foreigner</th>\n",
       "    </tr>\n",
       "  </thead>\n",
       "  <tbody>\n",
       "    <tr>\n",
       "      <th>0</th>\n",
       "      <td>1</td>\n",
       "      <td>A14</td>\n",
       "      <td>24</td>\n",
       "      <td>A34</td>\n",
       "      <td>A46</td>\n",
       "      <td>A61</td>\n",
       "      <td>A75</td>\n",
       "      <td>4.0</td>\n",
       "      <td>A93</td>\n",
       "      <td>A101</td>\n",
       "      <td>4</td>\n",
       "      <td>A124</td>\n",
       "      <td>54.0</td>\n",
       "      <td>A143</td>\n",
       "      <td>A153</td>\n",
       "      <td>2</td>\n",
       "      <td>A173</td>\n",
       "      <td>2</td>\n",
       "      <td>A191</td>\n",
       "      <td>A201</td>\n",
       "    </tr>\n",
       "    <tr>\n",
       "      <th>1</th>\n",
       "      <td>2</td>\n",
       "      <td>A12</td>\n",
       "      <td>18</td>\n",
       "      <td>A34</td>\n",
       "      <td>A43</td>\n",
       "      <td>A61</td>\n",
       "      <td>A75</td>\n",
       "      <td>3.0</td>\n",
       "      <td>A92</td>\n",
       "      <td>A103</td>\n",
       "      <td>4</td>\n",
       "      <td>A121</td>\n",
       "      <td>48.0</td>\n",
       "      <td>A141</td>\n",
       "      <td>A151</td>\n",
       "      <td>2</td>\n",
       "      <td>A172</td>\n",
       "      <td>1</td>\n",
       "      <td>A192</td>\n",
       "      <td>A201</td>\n",
       "    </tr>\n",
       "    <tr>\n",
       "      <th>2</th>\n",
       "      <td>3</td>\n",
       "      <td>A11</td>\n",
       "      <td>20</td>\n",
       "      <td>A34</td>\n",
       "      <td>A42</td>\n",
       "      <td>A61</td>\n",
       "      <td>A75</td>\n",
       "      <td>1.0</td>\n",
       "      <td>A92</td>\n",
       "      <td>A101</td>\n",
       "      <td>4</td>\n",
       "      <td>A122</td>\n",
       "      <td>24.0</td>\n",
       "      <td>A143</td>\n",
       "      <td>A152</td>\n",
       "      <td>2</td>\n",
       "      <td>A173</td>\n",
       "      <td>1</td>\n",
       "      <td>A191</td>\n",
       "      <td>A201</td>\n",
       "    </tr>\n",
       "    <tr>\n",
       "      <th>3</th>\n",
       "      <td>4</td>\n",
       "      <td>A14</td>\n",
       "      <td>12</td>\n",
       "      <td>A34</td>\n",
       "      <td>A43</td>\n",
       "      <td>A65</td>\n",
       "      <td>A75</td>\n",
       "      <td>4.0</td>\n",
       "      <td>A93</td>\n",
       "      <td>A101</td>\n",
       "      <td>4</td>\n",
       "      <td>A123</td>\n",
       "      <td>35.0</td>\n",
       "      <td>A143</td>\n",
       "      <td>A152</td>\n",
       "      <td>2</td>\n",
       "      <td>A173</td>\n",
       "      <td>1</td>\n",
       "      <td>A191</td>\n",
       "      <td>A201</td>\n",
       "    </tr>\n",
       "    <tr>\n",
       "      <th>4</th>\n",
       "      <td>5</td>\n",
       "      <td>A12</td>\n",
       "      <td>12</td>\n",
       "      <td>A32</td>\n",
       "      <td>A40</td>\n",
       "      <td>A65</td>\n",
       "      <td>A71</td>\n",
       "      <td>1.0</td>\n",
       "      <td>A92</td>\n",
       "      <td>A101</td>\n",
       "      <td>2</td>\n",
       "      <td>A121</td>\n",
       "      <td>24.0</td>\n",
       "      <td>A143</td>\n",
       "      <td>A151</td>\n",
       "      <td>1</td>\n",
       "      <td>A171</td>\n",
       "      <td>1</td>\n",
       "      <td>A191</td>\n",
       "      <td>A201</td>\n",
       "    </tr>\n",
       "    <tr>\n",
       "      <th>...</th>\n",
       "      <td>...</td>\n",
       "      <td>...</td>\n",
       "      <td>...</td>\n",
       "      <td>...</td>\n",
       "      <td>...</td>\n",
       "      <td>...</td>\n",
       "      <td>...</td>\n",
       "      <td>...</td>\n",
       "      <td>...</td>\n",
       "      <td>...</td>\n",
       "      <td>...</td>\n",
       "      <td>...</td>\n",
       "      <td>...</td>\n",
       "      <td>...</td>\n",
       "      <td>...</td>\n",
       "      <td>...</td>\n",
       "      <td>...</td>\n",
       "      <td>...</td>\n",
       "      <td>...</td>\n",
       "      <td>...</td>\n",
       "    </tr>\n",
       "    <tr>\n",
       "      <th>195</th>\n",
       "      <td>196</td>\n",
       "      <td>A14</td>\n",
       "      <td>12</td>\n",
       "      <td>A32</td>\n",
       "      <td>A42</td>\n",
       "      <td>A61</td>\n",
       "      <td>A74</td>\n",
       "      <td>3.0</td>\n",
       "      <td>A92</td>\n",
       "      <td>A101</td>\n",
       "      <td>4</td>\n",
       "      <td>A121</td>\n",
       "      <td>31.0</td>\n",
       "      <td>A143</td>\n",
       "      <td>A152</td>\n",
       "      <td>1</td>\n",
       "      <td>A172</td>\n",
       "      <td>1</td>\n",
       "      <td>A191</td>\n",
       "      <td>A201</td>\n",
       "    </tr>\n",
       "    <tr>\n",
       "      <th>196</th>\n",
       "      <td>197</td>\n",
       "      <td>A11</td>\n",
       "      <td>30</td>\n",
       "      <td>A32</td>\n",
       "      <td>A41</td>\n",
       "      <td>A61</td>\n",
       "      <td>NaN</td>\n",
       "      <td>4.0</td>\n",
       "      <td>A91</td>\n",
       "      <td>A101</td>\n",
       "      <td>4</td>\n",
       "      <td>A122</td>\n",
       "      <td>40.0</td>\n",
       "      <td>A143</td>\n",
       "      <td>A152</td>\n",
       "      <td>1</td>\n",
       "      <td>A174</td>\n",
       "      <td>1</td>\n",
       "      <td>A192</td>\n",
       "      <td>A201</td>\n",
       "    </tr>\n",
       "    <tr>\n",
       "      <th>197</th>\n",
       "      <td>198</td>\n",
       "      <td>A14</td>\n",
       "      <td>12</td>\n",
       "      <td>A32</td>\n",
       "      <td>A43</td>\n",
       "      <td>A61</td>\n",
       "      <td>A75</td>\n",
       "      <td>4.0</td>\n",
       "      <td>A93</td>\n",
       "      <td>A101</td>\n",
       "      <td>4</td>\n",
       "      <td>A123</td>\n",
       "      <td>38.0</td>\n",
       "      <td>A143</td>\n",
       "      <td>NaN</td>\n",
       "      <td>1</td>\n",
       "      <td>A173</td>\n",
       "      <td>1</td>\n",
       "      <td>A191</td>\n",
       "      <td>A201</td>\n",
       "    </tr>\n",
       "    <tr>\n",
       "      <th>198</th>\n",
       "      <td>199</td>\n",
       "      <td>A11</td>\n",
       "      <td>45</td>\n",
       "      <td>A32</td>\n",
       "      <td>A43</td>\n",
       "      <td>A61</td>\n",
       "      <td>A73</td>\n",
       "      <td>4.0</td>\n",
       "      <td>A93</td>\n",
       "      <td>A101</td>\n",
       "      <td>4</td>\n",
       "      <td>A124</td>\n",
       "      <td>23.0</td>\n",
       "      <td>A143</td>\n",
       "      <td>A153</td>\n",
       "      <td>1</td>\n",
       "      <td>A173</td>\n",
       "      <td>1</td>\n",
       "      <td>A192</td>\n",
       "      <td>A201</td>\n",
       "    </tr>\n",
       "    <tr>\n",
       "      <th>199</th>\n",
       "      <td>200</td>\n",
       "      <td>A12</td>\n",
       "      <td>45</td>\n",
       "      <td>A34</td>\n",
       "      <td>A41</td>\n",
       "      <td>A62</td>\n",
       "      <td>A71</td>\n",
       "      <td>3.0</td>\n",
       "      <td>A93</td>\n",
       "      <td>A101</td>\n",
       "      <td>4</td>\n",
       "      <td>A123</td>\n",
       "      <td>27.0</td>\n",
       "      <td>A143</td>\n",
       "      <td>A152</td>\n",
       "      <td>1</td>\n",
       "      <td>A173</td>\n",
       "      <td>1</td>\n",
       "      <td>A191</td>\n",
       "      <td>A201</td>\n",
       "    </tr>\n",
       "  </tbody>\n",
       "</table>\n",
       "<p>200 rows × 20 columns</p>\n",
       "</div>"
      ],
      "text/plain": [
       "     sno acc_info  duration_month credit_history purpose savings_acc  \\\n",
       "0      1      A14              24            A34     A46         A61   \n",
       "1      2      A12              18            A34     A43         A61   \n",
       "2      3      A11              20            A34     A42         A61   \n",
       "3      4      A14              12            A34     A43         A65   \n",
       "4      5      A12              12            A32     A40         A65   \n",
       "..   ...      ...             ...            ...     ...         ...   \n",
       "195  196      A14              12            A32     A42         A61   \n",
       "196  197      A11              30            A32     A41         A61   \n",
       "197  198      A14              12            A32     A43         A61   \n",
       "198  199      A11              45            A32     A43         A61   \n",
       "199  200      A12              45            A34     A41         A62   \n",
       "\n",
       "    employment_st  poi personal_status gurantors  resident_since  \\\n",
       "0             A75  4.0             A93      A101               4   \n",
       "1             A75  3.0             A92      A103               4   \n",
       "2             A75  1.0             A92      A101               4   \n",
       "3             A75  4.0             A93      A101               4   \n",
       "4             A71  1.0             A92      A101               2   \n",
       "..            ...  ...             ...       ...             ...   \n",
       "195           A74  3.0             A92      A101               4   \n",
       "196           NaN  4.0             A91      A101               4   \n",
       "197           A75  4.0             A93      A101               4   \n",
       "198           A73  4.0             A93      A101               4   \n",
       "199           A71  3.0             A93      A101               4   \n",
       "\n",
       "    property_type   age installment_type housing_type  credits_no job_type  \\\n",
       "0            A124  54.0             A143         A153           2     A173   \n",
       "1            A121  48.0             A141         A151           2     A172   \n",
       "2            A122  24.0             A143         A152           2     A173   \n",
       "3            A123  35.0             A143         A152           2     A173   \n",
       "4            A121  24.0             A143         A151           1     A171   \n",
       "..            ...   ...              ...          ...         ...      ...   \n",
       "195          A121  31.0             A143         A152           1     A172   \n",
       "196          A122  40.0             A143         A152           1     A174   \n",
       "197          A123  38.0             A143          NaN           1     A173   \n",
       "198          A124  23.0             A143         A153           1     A173   \n",
       "199          A123  27.0             A143         A152           1     A173   \n",
       "\n",
       "     liables telephone foreigner  \n",
       "0          2      A191      A201  \n",
       "1          1      A192      A201  \n",
       "2          1      A191      A201  \n",
       "3          1      A191      A201  \n",
       "4          1      A191      A201  \n",
       "..       ...       ...       ...  \n",
       "195        1      A191      A201  \n",
       "196        1      A192      A201  \n",
       "197        1      A191      A201  \n",
       "198        1      A192      A201  \n",
       "199        1      A191      A201  \n",
       "\n",
       "[200 rows x 20 columns]"
      ]
     },
     "execution_count": 76,
     "metadata": {},
     "output_type": "execute_result"
    }
   ],
   "source": [
    "te=pd.read_csv(\"C&T test dataset.csv\")\n",
    "te"
   ]
  },
  {
   "cell_type": "code",
   "execution_count": 77,
   "id": "77bf5dfb-ddd2-42b6-88c0-ad18f313f6ca",
   "metadata": {},
   "outputs": [
    {
     "data": {
      "text/plain": [
       "(200, 20)"
      ]
     },
     "execution_count": 77,
     "metadata": {},
     "output_type": "execute_result"
    }
   ],
   "source": [
    "te.shape"
   ]
  },
  {
   "cell_type": "markdown",
   "id": "7b2b6a21-9de1-4efd-bea6-acf32acb6f1e",
   "metadata": {},
   "source": [
    "## Data Processing\n"
   ]
  },
  {
   "cell_type": "code",
   "execution_count": 78,
   "id": "e38e06dc-63a7-4071-bcf0-a4dbe1f6516e",
   "metadata": {},
   "outputs": [
    {
     "data": {
      "text/plain": [
       "<bound method NDFrame.head of      sno  cc_info  durtion_month  credit_history  purpose  svings_cc  \\\n",
       "0      1       11              6              34       43         65   \n",
       "1      2       12             48              32       43         61   \n",
       "2      3       14             12              34       46         61   \n",
       "3      4       11             42              32       42         61   \n",
       "4      5       11             24              33       40         61   \n",
       "..   ...      ...            ...             ...      ...        ...   \n",
       "795  796       14              9              32       42         62   \n",
       "796  797       11             18              32       41         65   \n",
       "797  798       14             12              34       42         61   \n",
       "798  799       14             24              33       40         65   \n",
       "799  800       12              9              32       40         65   \n",
       "\n",
       "     employment_st  poi  personl_sttus  gurntors  ...  property_type    ge  \\\n",
       "0             75.0  4.0             93     101.0  ...            121  67.0   \n",
       "1             73.0  2.0             92     101.0  ...            121  22.0   \n",
       "2             74.0  2.0             93     101.0  ...            121  49.0   \n",
       "3             74.0  2.0             93     103.0  ...            122  45.0   \n",
       "4             73.0  3.0             93     101.0  ...            124  53.0   \n",
       "..             ...  ...            ...       ...  ...            ...   ...   \n",
       "795           72.0  2.0             92     101.0  ...            122  22.0   \n",
       "796           75.0  1.0             93     101.0  ...            122  51.0   \n",
       "797           72.0  2.0             92     101.0  ...            122  22.0   \n",
       "798           75.0  4.0             94     101.0  ...            123  54.0   \n",
       "799           72.0  4.0             93     101.0  ...            121  35.0   \n",
       "\n",
       "     instllment_type  housing_type  credits_no  job_type  libles  telephone  \\\n",
       "0                143         152.0           2       173       1        192   \n",
       "1                143         152.0           1       173       1        191   \n",
       "2                143         152.0           1       172       2        191   \n",
       "3                143         153.0           1       173       2        191   \n",
       "4                143         153.0           2       173       2        191   \n",
       "..               ...           ...         ...       ...     ...        ...   \n",
       "795              143         151.0           1       173       1        191   \n",
       "796              143         153.0           1       173       2        192   \n",
       "797              143         151.0           2       172       1        191   \n",
       "798              143         152.0           2       173       1        192   \n",
       "799              143         152.0           1       171       1        191   \n",
       "\n",
       "     foreigner  Group_no  \n",
       "0          201         3  \n",
       "1          201         1  \n",
       "2          201         2  \n",
       "3          201         1  \n",
       "4          201         1  \n",
       "..         ...       ...  \n",
       "795        201         2  \n",
       "796        201         1  \n",
       "797        201         3  \n",
       "798        201         3  \n",
       "799        201         2  \n",
       "\n",
       "[761 rows x 21 columns]>"
      ]
     },
     "execution_count": 78,
     "metadata": {},
     "output_type": "execute_result"
    }
   ],
   "source": [
    "tra.head\n"
   ]
  },
  {
   "cell_type": "code",
   "execution_count": 79,
   "id": "51af2a21-7a97-4f8f-af45-508c006e97d1",
   "metadata": {},
   "outputs": [
    {
     "data": {
      "text/html": [
       "<div>\n",
       "<style scoped>\n",
       "    .dataframe tbody tr th:only-of-type {\n",
       "        vertical-align: middle;\n",
       "    }\n",
       "\n",
       "    .dataframe tbody tr th {\n",
       "        vertical-align: top;\n",
       "    }\n",
       "\n",
       "    .dataframe thead th {\n",
       "        text-align: right;\n",
       "    }\n",
       "</style>\n",
       "<table border=\"1\" class=\"dataframe\">\n",
       "  <thead>\n",
       "    <tr style=\"text-align: right;\">\n",
       "      <th></th>\n",
       "      <th>sno</th>\n",
       "      <th>cc_info</th>\n",
       "      <th>durtion_month</th>\n",
       "      <th>credit_history</th>\n",
       "      <th>purpose</th>\n",
       "      <th>svings_cc</th>\n",
       "      <th>employment_st</th>\n",
       "      <th>poi</th>\n",
       "      <th>personl_sttus</th>\n",
       "      <th>gurntors</th>\n",
       "      <th>resident_since</th>\n",
       "      <th>property_type</th>\n",
       "      <th>ge</th>\n",
       "      <th>instllment_type</th>\n",
       "      <th>housing_type</th>\n",
       "      <th>credits_no</th>\n",
       "      <th>job_type</th>\n",
       "      <th>libles</th>\n",
       "      <th>telephone</th>\n",
       "      <th>foreigner</th>\n",
       "    </tr>\n",
       "  </thead>\n",
       "  <tbody>\n",
       "    <tr>\n",
       "      <th>0</th>\n",
       "      <td>1</td>\n",
       "      <td>11</td>\n",
       "      <td>6</td>\n",
       "      <td>34</td>\n",
       "      <td>43</td>\n",
       "      <td>65</td>\n",
       "      <td>75.0</td>\n",
       "      <td>4.0</td>\n",
       "      <td>93</td>\n",
       "      <td>101.0</td>\n",
       "      <td>4</td>\n",
       "      <td>121</td>\n",
       "      <td>67.0</td>\n",
       "      <td>143</td>\n",
       "      <td>152.0</td>\n",
       "      <td>2</td>\n",
       "      <td>173</td>\n",
       "      <td>1</td>\n",
       "      <td>192</td>\n",
       "      <td>201</td>\n",
       "    </tr>\n",
       "    <tr>\n",
       "      <th>1</th>\n",
       "      <td>2</td>\n",
       "      <td>12</td>\n",
       "      <td>48</td>\n",
       "      <td>32</td>\n",
       "      <td>43</td>\n",
       "      <td>61</td>\n",
       "      <td>73.0</td>\n",
       "      <td>2.0</td>\n",
       "      <td>92</td>\n",
       "      <td>101.0</td>\n",
       "      <td>2</td>\n",
       "      <td>121</td>\n",
       "      <td>22.0</td>\n",
       "      <td>143</td>\n",
       "      <td>152.0</td>\n",
       "      <td>1</td>\n",
       "      <td>173</td>\n",
       "      <td>1</td>\n",
       "      <td>191</td>\n",
       "      <td>201</td>\n",
       "    </tr>\n",
       "    <tr>\n",
       "      <th>2</th>\n",
       "      <td>3</td>\n",
       "      <td>14</td>\n",
       "      <td>12</td>\n",
       "      <td>34</td>\n",
       "      <td>46</td>\n",
       "      <td>61</td>\n",
       "      <td>74.0</td>\n",
       "      <td>2.0</td>\n",
       "      <td>93</td>\n",
       "      <td>101.0</td>\n",
       "      <td>3</td>\n",
       "      <td>121</td>\n",
       "      <td>49.0</td>\n",
       "      <td>143</td>\n",
       "      <td>152.0</td>\n",
       "      <td>1</td>\n",
       "      <td>172</td>\n",
       "      <td>2</td>\n",
       "      <td>191</td>\n",
       "      <td>201</td>\n",
       "    </tr>\n",
       "    <tr>\n",
       "      <th>3</th>\n",
       "      <td>4</td>\n",
       "      <td>11</td>\n",
       "      <td>42</td>\n",
       "      <td>32</td>\n",
       "      <td>42</td>\n",
       "      <td>61</td>\n",
       "      <td>74.0</td>\n",
       "      <td>2.0</td>\n",
       "      <td>93</td>\n",
       "      <td>103.0</td>\n",
       "      <td>4</td>\n",
       "      <td>122</td>\n",
       "      <td>45.0</td>\n",
       "      <td>143</td>\n",
       "      <td>153.0</td>\n",
       "      <td>1</td>\n",
       "      <td>173</td>\n",
       "      <td>2</td>\n",
       "      <td>191</td>\n",
       "      <td>201</td>\n",
       "    </tr>\n",
       "    <tr>\n",
       "      <th>4</th>\n",
       "      <td>5</td>\n",
       "      <td>11</td>\n",
       "      <td>24</td>\n",
       "      <td>33</td>\n",
       "      <td>40</td>\n",
       "      <td>61</td>\n",
       "      <td>73.0</td>\n",
       "      <td>3.0</td>\n",
       "      <td>93</td>\n",
       "      <td>101.0</td>\n",
       "      <td>4</td>\n",
       "      <td>124</td>\n",
       "      <td>53.0</td>\n",
       "      <td>143</td>\n",
       "      <td>153.0</td>\n",
       "      <td>2</td>\n",
       "      <td>173</td>\n",
       "      <td>2</td>\n",
       "      <td>191</td>\n",
       "      <td>201</td>\n",
       "    </tr>\n",
       "  </tbody>\n",
       "</table>\n",
       "</div>"
      ],
      "text/plain": [
       "   sno  cc_info  durtion_month  credit_history  purpose  svings_cc  \\\n",
       "0    1       11              6              34       43         65   \n",
       "1    2       12             48              32       43         61   \n",
       "2    3       14             12              34       46         61   \n",
       "3    4       11             42              32       42         61   \n",
       "4    5       11             24              33       40         61   \n",
       "\n",
       "   employment_st  poi  personl_sttus  gurntors  resident_since  property_type  \\\n",
       "0           75.0  4.0             93     101.0               4            121   \n",
       "1           73.0  2.0             92     101.0               2            121   \n",
       "2           74.0  2.0             93     101.0               3            121   \n",
       "3           74.0  2.0             93     103.0               4            122   \n",
       "4           73.0  3.0             93     101.0               4            124   \n",
       "\n",
       "     ge  instllment_type  housing_type  credits_no  job_type  libles  \\\n",
       "0  67.0              143         152.0           2       173       1   \n",
       "1  22.0              143         152.0           1       173       1   \n",
       "2  49.0              143         152.0           1       172       2   \n",
       "3  45.0              143         153.0           1       173       2   \n",
       "4  53.0              143         153.0           2       173       2   \n",
       "\n",
       "   telephone  foreigner  \n",
       "0        192        201  \n",
       "1        191        201  \n",
       "2        191        201  \n",
       "3        191        201  \n",
       "4        191        201  "
      ]
     },
     "execution_count": 79,
     "metadata": {},
     "output_type": "execute_result"
    }
   ],
   "source": [
    "# Assigning x and y features\n",
    "y = np.array(tra['Group_no'])\n",
    "X_features = tra.drop('Group_no', axis = 1)\n",
    "X_features.head()"
   ]
  },
  {
   "cell_type": "code",
   "execution_count": 80,
   "id": "7cb23a80-7c5f-4dee-98da-dc58f4c0f7a0",
   "metadata": {},
   "outputs": [
    {
     "data": {
      "text/plain": [
       "array([3, 1, 2, 1, 1], dtype=int64)"
      ]
     },
     "execution_count": 80,
     "metadata": {},
     "output_type": "execute_result"
    }
   ],
   "source": [
    "y[:5]"
   ]
  },
  {
   "cell_type": "code",
   "execution_count": 81,
   "id": "ee9315a5-548e-4fb6-9637-76263bff61d3",
   "metadata": {},
   "outputs": [
    {
     "data": {
      "text/plain": [
       "array([[-1.73184068, -1.2682894 , -1.20374342, ..., -0.42192248,\n",
       "         1.22608706, -0.18808017],\n",
       "       [-1.7275087 , -0.4599408 ,  2.22317803, ..., -0.42192248,\n",
       "        -0.81560277, -0.18808017],\n",
       "       [-1.72317672,  1.15675641, -0.71418321, ...,  2.37010365,\n",
       "        -0.81560277, -0.18808017],\n",
       "       ...,\n",
       "       [ 1.72074603,  1.15675641, -0.71418321, ..., -0.42192248,\n",
       "        -0.81560277, -0.18808017],\n",
       "       [ 1.72507801,  1.15675641,  0.2649372 , ..., -0.42192248,\n",
       "         1.22608706, -0.18808017],\n",
       "       [ 1.72940999, -0.4599408 , -0.95896331, ..., -0.42192248,\n",
       "        -0.81560277, -0.18808017]])"
      ]
     },
     "execution_count": 81,
     "metadata": {},
     "output_type": "execute_result"
    }
   ],
   "source": [
    "# Normalizing data\n",
    "scaler =  StandardScaler()\n",
    "X = scaler.fit_transform(X_features)\n",
    "X\n"
   ]
  },
  {
   "cell_type": "markdown",
   "id": "a9ccce56-ebdb-4563-8c0b-61ac802871d8",
   "metadata": {},
   "source": [
    "## Model Building"
   ]
  },
  {
   "cell_type": "code",
   "execution_count": 82,
   "id": "ea6eaef0-ac14-41cc-9bf4-991f317eb25f",
   "metadata": {},
   "outputs": [],
   "source": [
    "trained_models=[]"
   ]
  },
  {
   "cell_type": "code",
   "execution_count": 83,
   "id": "5061eb07-6978-4e2e-9b11-19389bdbbcf0",
   "metadata": {},
   "outputs": [],
   "source": [
    "# Split data into training and testing sets\n",
    "X_train, X_test, y_train, y_test = train_test_split(X_features, y, test_size=0.2, random_state=42)"
   ]
  },
  {
   "cell_type": "code",
   "execution_count": 84,
   "id": "59e8e9dc-d895-4dc7-9df4-43f5bcb35d5f",
   "metadata": {},
   "outputs": [],
   "source": [
    "# Split data into training and validation sets\n",
    "X_train, X_val, y_train, y_val = train_test_split(X_train, y_train, test_size=0.2, random_state=42)"
   ]
  },
  {
   "cell_type": "code",
   "execution_count": 85,
   "id": "e97e2647-34c8-49ef-abb2-ae59a425d6f9",
   "metadata": {},
   "outputs": [
    {
     "name": "stdout",
     "output_type": "stream",
     "text": [
      "Unique Values: [1 2 3]\n",
      "Frequency Values: [190 335 236]\n",
      "\n",
      "\n",
      "The baseline accuracy to beat is 44.021%\n"
     ]
    }
   ],
   "source": [
    "# Calculate the baseline accuracy to beat\n",
    "target_value, frequency = np.unique(y, return_counts = True)\n",
    "print(\"Unique Values:\", target_value)\n",
    "\n",
    "print(\"Frequency Values:\", frequency)\n",
    "\n",
    "# Maximum frequency value\n",
    "max_val = frequency.max()\n",
    "length_y = len(y)\n",
    "\n",
    "print('\\n')\n",
    "\n",
    "baseline_acc = round((max_val/length_y) * 100, 3)\n",
    "print(f'The baseline accuracy to beat is {baseline_acc}%')\n",
    "\n"
   ]
  },
  {
   "cell_type": "markdown",
   "id": "28fd9b2f-8561-4c97-ab83-7e6db85f5318",
   "metadata": {},
   "source": [
    "## Random Forest"
   ]
  },
  {
   "cell_type": "code",
   "execution_count": 86,
   "id": "89f1983f-83c9-4e5c-97d3-f4c96df9a308",
   "metadata": {},
   "outputs": [
    {
     "name": "stdout",
     "output_type": "stream",
     "text": [
      "With default parameters: \n",
      "Accuracy of Random forest model on training data is 100.0%\n",
      "Accuracy of Random forest model on validation data is 60.699999999999996%\n"
     ]
    }
   ],
   "source": [
    "# Train a Random forest model\n",
    "rf_model = RandomForestClassifier(random_state=42)\n",
    "rf_model.fit(X_train, y_train)\n",
    "\n",
    "# Predict target values for training data\n",
    "y_pred_train = rf_model.predict(X_train)\n",
    "rf_acc_train = round(accuracy_score(y_train, y_pred_train), 3)\n",
    "\n",
    "# Predict target values for validation data\n",
    "y_pred_val = rf_model.predict(X_val)\n",
    "rf_acc_val = round(accuracy_score(y_val, y_pred_val), 3)\n",
    "\n",
    "print('With default parameters: ')\n",
    "print(f'Accuracy of Random forest model on training data is {rf_acc_train * 100}%')\n",
    "print(f'Accuracy of Random forest model on validation data is {rf_acc_val * 100}%')\n"
   ]
  },
  {
   "cell_type": "code",
   "execution_count": 87,
   "id": "0d94773a-266f-4fe5-80f0-6c176e61217d",
   "metadata": {},
   "outputs": [
    {
     "name": "stdout",
     "output_type": "stream",
     "text": [
      "Grid search parameters: {'max_depth': 9, 'max_features': 'sqrt', 'max_leaf_nodes': 9, 'n_estimators': 100}\n"
     ]
    }
   ],
   "source": [
    "# Using Grid search to determine best parameters\n",
    "param_grid = {\n",
    "    'n_estimators': [25, 50, 75, 100],\n",
    "    'max_features': ['sqrt', 'log2', None],\n",
    "    'max_depth': [3, 6, 9],\n",
    "    'max_leaf_nodes': [3, 6, 9],\n",
    "}\n",
    "\n",
    "grid_search = GridSearchCV(RandomForestClassifier(random_state=42),param_grid=param_grid, cv = 5)\n",
    "# Fit Grid\n",
    "grid_search.fit(X_train, y_train)\n",
    "best_rf_parameters = grid_search.best_params_\n",
    "print(f'Grid search parameters: {best_rf_parameters}')\n",
    "\n"
   ]
  },
  {
   "cell_type": "code",
   "execution_count": 88,
   "id": "484ae6f9-2bf0-4f77-ad1a-dbdbcb9f7f99",
   "metadata": {},
   "outputs": [
    {
     "name": "stdout",
     "output_type": "stream",
     "text": [
      "With Grid search best estimator parameters: \n",
      "Accuracy of Random forest model on training data is 77.4%\n",
      "Accuracy of Random forest model on validation data is 66.7%\n"
     ]
    }
   ],
   "source": [
    "# Train a Random forest model with best estimator from Grid search\n",
    "grid_rf_model = RandomForestClassifier(random_state = 42,\n",
    "                                       max_depth = best_rf_parameters['max_depth'],\n",
    "                                      max_leaf_nodes = best_rf_parameters['max_leaf_nodes'],\n",
    "                                      n_estimators = best_rf_parameters['n_estimators'],\n",
    "                                       max_features = best_rf_parameters['max_features'])\n",
    "grid_rf_model.fit(X_train, y_train)\n",
    "\n",
    "# Predict target values for training data\n",
    "y_pred_train = grid_rf_model.predict(X_train)\n",
    "rf_acc_train = round(accuracy_score(y_train, y_pred_train), 3)\n",
    "\n",
    "# Predict target values for validation data\n",
    "y_pred_val = grid_rf_model.predict(X_test)\n",
    "rf_acc_val = round(accuracy_score(y_test, y_pred_val), 3)\n",
    "\n",
    "print('With Grid search best estimator parameters: ')\n",
    "print(f'Accuracy of Random forest model on training data is {rf_acc_train * 100}%')\n",
    "print(f'Accuracy of Random forest model on validation data is {rf_acc_val * 100}%')"
   ]
  },
  {
   "cell_type": "code",
   "execution_count": 89,
   "id": "8bfa9d36-043f-44f6-83ff-603e5820c255",
   "metadata": {},
   "outputs": [
    {
     "name": "stdout",
     "output_type": "stream",
     "text": [
      "Accuracy of Random forest model on test data is 66.7%\n"
     ]
    }
   ],
   "source": [
    "# Predict target values for test data using default parameters\n",
    "y_pred = grid_rf_model.predict(X_test)\n",
    "rf_acc = round(accuracy_score(y_test, y_pred), 3)\n",
    "print(f'Accuracy of Random forest model on test data is {rf_acc * 100}%')\n",
    "\n",
    "# Add to model list\n",
    "trained_models.append(grid_rf_model)"
   ]
  },
  {
   "cell_type": "markdown",
   "id": "071f07ae-a972-49c7-a855-79bfc0ca137e",
   "metadata": {},
   "source": [
    "## Test on data set\n"
   ]
  },
  {
   "cell_type": "code",
   "execution_count": 90,
   "id": "44b5439d-7bc2-4747-885e-d63b82508b9d",
   "metadata": {},
   "outputs": [
    {
     "data": {
      "text/html": [
       "<div>\n",
       "<style scoped>\n",
       "    .dataframe tbody tr th:only-of-type {\n",
       "        vertical-align: middle;\n",
       "    }\n",
       "\n",
       "    .dataframe tbody tr th {\n",
       "        vertical-align: top;\n",
       "    }\n",
       "\n",
       "    .dataframe thead th {\n",
       "        text-align: right;\n",
       "    }\n",
       "</style>\n",
       "<table border=\"1\" class=\"dataframe\">\n",
       "  <thead>\n",
       "    <tr style=\"text-align: right;\">\n",
       "      <th></th>\n",
       "      <th>sno</th>\n",
       "      <th>cc_info</th>\n",
       "      <th>durtion_month</th>\n",
       "      <th>credit_history</th>\n",
       "      <th>purpose</th>\n",
       "      <th>svings_cc</th>\n",
       "      <th>employment_st</th>\n",
       "      <th>poi</th>\n",
       "      <th>personl_sttus</th>\n",
       "      <th>gurntors</th>\n",
       "      <th>resident_since</th>\n",
       "      <th>property_type</th>\n",
       "      <th>ge</th>\n",
       "      <th>instllment_type</th>\n",
       "      <th>housing_type</th>\n",
       "      <th>credits_no</th>\n",
       "      <th>job_type</th>\n",
       "      <th>libles</th>\n",
       "      <th>telephone</th>\n",
       "      <th>foreigner</th>\n",
       "    </tr>\n",
       "  </thead>\n",
       "  <tbody>\n",
       "    <tr>\n",
       "      <th>0</th>\n",
       "      <td>1</td>\n",
       "      <td>14</td>\n",
       "      <td>24</td>\n",
       "      <td>34</td>\n",
       "      <td>46</td>\n",
       "      <td>61</td>\n",
       "      <td>75.0</td>\n",
       "      <td>4.0</td>\n",
       "      <td>93</td>\n",
       "      <td>101</td>\n",
       "      <td>4</td>\n",
       "      <td>124</td>\n",
       "      <td>54.0</td>\n",
       "      <td>143</td>\n",
       "      <td>153.0</td>\n",
       "      <td>2</td>\n",
       "      <td>173</td>\n",
       "      <td>2</td>\n",
       "      <td>191</td>\n",
       "      <td>201</td>\n",
       "    </tr>\n",
       "    <tr>\n",
       "      <th>1</th>\n",
       "      <td>2</td>\n",
       "      <td>12</td>\n",
       "      <td>18</td>\n",
       "      <td>34</td>\n",
       "      <td>43</td>\n",
       "      <td>61</td>\n",
       "      <td>75.0</td>\n",
       "      <td>3.0</td>\n",
       "      <td>92</td>\n",
       "      <td>103</td>\n",
       "      <td>4</td>\n",
       "      <td>121</td>\n",
       "      <td>48.0</td>\n",
       "      <td>141</td>\n",
       "      <td>151.0</td>\n",
       "      <td>2</td>\n",
       "      <td>172</td>\n",
       "      <td>1</td>\n",
       "      <td>192</td>\n",
       "      <td>201</td>\n",
       "    </tr>\n",
       "    <tr>\n",
       "      <th>2</th>\n",
       "      <td>3</td>\n",
       "      <td>11</td>\n",
       "      <td>20</td>\n",
       "      <td>34</td>\n",
       "      <td>42</td>\n",
       "      <td>61</td>\n",
       "      <td>75.0</td>\n",
       "      <td>1.0</td>\n",
       "      <td>92</td>\n",
       "      <td>101</td>\n",
       "      <td>4</td>\n",
       "      <td>122</td>\n",
       "      <td>24.0</td>\n",
       "      <td>143</td>\n",
       "      <td>152.0</td>\n",
       "      <td>2</td>\n",
       "      <td>173</td>\n",
       "      <td>1</td>\n",
       "      <td>191</td>\n",
       "      <td>201</td>\n",
       "    </tr>\n",
       "    <tr>\n",
       "      <th>3</th>\n",
       "      <td>4</td>\n",
       "      <td>14</td>\n",
       "      <td>12</td>\n",
       "      <td>34</td>\n",
       "      <td>43</td>\n",
       "      <td>65</td>\n",
       "      <td>75.0</td>\n",
       "      <td>4.0</td>\n",
       "      <td>93</td>\n",
       "      <td>101</td>\n",
       "      <td>4</td>\n",
       "      <td>123</td>\n",
       "      <td>35.0</td>\n",
       "      <td>143</td>\n",
       "      <td>152.0</td>\n",
       "      <td>2</td>\n",
       "      <td>173</td>\n",
       "      <td>1</td>\n",
       "      <td>191</td>\n",
       "      <td>201</td>\n",
       "    </tr>\n",
       "    <tr>\n",
       "      <th>4</th>\n",
       "      <td>5</td>\n",
       "      <td>12</td>\n",
       "      <td>12</td>\n",
       "      <td>32</td>\n",
       "      <td>40</td>\n",
       "      <td>65</td>\n",
       "      <td>71.0</td>\n",
       "      <td>1.0</td>\n",
       "      <td>92</td>\n",
       "      <td>101</td>\n",
       "      <td>2</td>\n",
       "      <td>121</td>\n",
       "      <td>24.0</td>\n",
       "      <td>143</td>\n",
       "      <td>151.0</td>\n",
       "      <td>1</td>\n",
       "      <td>171</td>\n",
       "      <td>1</td>\n",
       "      <td>191</td>\n",
       "      <td>201</td>\n",
       "    </tr>\n",
       "    <tr>\n",
       "      <th>...</th>\n",
       "      <td>...</td>\n",
       "      <td>...</td>\n",
       "      <td>...</td>\n",
       "      <td>...</td>\n",
       "      <td>...</td>\n",
       "      <td>...</td>\n",
       "      <td>...</td>\n",
       "      <td>...</td>\n",
       "      <td>...</td>\n",
       "      <td>...</td>\n",
       "      <td>...</td>\n",
       "      <td>...</td>\n",
       "      <td>...</td>\n",
       "      <td>...</td>\n",
       "      <td>...</td>\n",
       "      <td>...</td>\n",
       "      <td>...</td>\n",
       "      <td>...</td>\n",
       "      <td>...</td>\n",
       "      <td>...</td>\n",
       "    </tr>\n",
       "    <tr>\n",
       "      <th>195</th>\n",
       "      <td>196</td>\n",
       "      <td>14</td>\n",
       "      <td>12</td>\n",
       "      <td>32</td>\n",
       "      <td>42</td>\n",
       "      <td>61</td>\n",
       "      <td>74.0</td>\n",
       "      <td>3.0</td>\n",
       "      <td>92</td>\n",
       "      <td>101</td>\n",
       "      <td>4</td>\n",
       "      <td>121</td>\n",
       "      <td>31.0</td>\n",
       "      <td>143</td>\n",
       "      <td>152.0</td>\n",
       "      <td>1</td>\n",
       "      <td>172</td>\n",
       "      <td>1</td>\n",
       "      <td>191</td>\n",
       "      <td>201</td>\n",
       "    </tr>\n",
       "    <tr>\n",
       "      <th>196</th>\n",
       "      <td>197</td>\n",
       "      <td>11</td>\n",
       "      <td>30</td>\n",
       "      <td>32</td>\n",
       "      <td>41</td>\n",
       "      <td>61</td>\n",
       "      <td>NaN</td>\n",
       "      <td>4.0</td>\n",
       "      <td>91</td>\n",
       "      <td>101</td>\n",
       "      <td>4</td>\n",
       "      <td>122</td>\n",
       "      <td>40.0</td>\n",
       "      <td>143</td>\n",
       "      <td>152.0</td>\n",
       "      <td>1</td>\n",
       "      <td>174</td>\n",
       "      <td>1</td>\n",
       "      <td>192</td>\n",
       "      <td>201</td>\n",
       "    </tr>\n",
       "    <tr>\n",
       "      <th>197</th>\n",
       "      <td>198</td>\n",
       "      <td>14</td>\n",
       "      <td>12</td>\n",
       "      <td>32</td>\n",
       "      <td>43</td>\n",
       "      <td>61</td>\n",
       "      <td>75.0</td>\n",
       "      <td>4.0</td>\n",
       "      <td>93</td>\n",
       "      <td>101</td>\n",
       "      <td>4</td>\n",
       "      <td>123</td>\n",
       "      <td>38.0</td>\n",
       "      <td>143</td>\n",
       "      <td>NaN</td>\n",
       "      <td>1</td>\n",
       "      <td>173</td>\n",
       "      <td>1</td>\n",
       "      <td>191</td>\n",
       "      <td>201</td>\n",
       "    </tr>\n",
       "    <tr>\n",
       "      <th>198</th>\n",
       "      <td>199</td>\n",
       "      <td>11</td>\n",
       "      <td>45</td>\n",
       "      <td>32</td>\n",
       "      <td>43</td>\n",
       "      <td>61</td>\n",
       "      <td>73.0</td>\n",
       "      <td>4.0</td>\n",
       "      <td>93</td>\n",
       "      <td>101</td>\n",
       "      <td>4</td>\n",
       "      <td>124</td>\n",
       "      <td>23.0</td>\n",
       "      <td>143</td>\n",
       "      <td>153.0</td>\n",
       "      <td>1</td>\n",
       "      <td>173</td>\n",
       "      <td>1</td>\n",
       "      <td>192</td>\n",
       "      <td>201</td>\n",
       "    </tr>\n",
       "    <tr>\n",
       "      <th>199</th>\n",
       "      <td>200</td>\n",
       "      <td>12</td>\n",
       "      <td>45</td>\n",
       "      <td>34</td>\n",
       "      <td>41</td>\n",
       "      <td>62</td>\n",
       "      <td>71.0</td>\n",
       "      <td>3.0</td>\n",
       "      <td>93</td>\n",
       "      <td>101</td>\n",
       "      <td>4</td>\n",
       "      <td>123</td>\n",
       "      <td>27.0</td>\n",
       "      <td>143</td>\n",
       "      <td>152.0</td>\n",
       "      <td>1</td>\n",
       "      <td>173</td>\n",
       "      <td>1</td>\n",
       "      <td>191</td>\n",
       "      <td>201</td>\n",
       "    </tr>\n",
       "  </tbody>\n",
       "</table>\n",
       "<p>200 rows × 20 columns</p>\n",
       "</div>"
      ],
      "text/plain": [
       "     sno  cc_info  durtion_month  credit_history  purpose  svings_cc  \\\n",
       "0      1       14             24              34       46         61   \n",
       "1      2       12             18              34       43         61   \n",
       "2      3       11             20              34       42         61   \n",
       "3      4       14             12              34       43         65   \n",
       "4      5       12             12              32       40         65   \n",
       "..   ...      ...            ...             ...      ...        ...   \n",
       "195  196       14             12              32       42         61   \n",
       "196  197       11             30              32       41         61   \n",
       "197  198       14             12              32       43         61   \n",
       "198  199       11             45              32       43         61   \n",
       "199  200       12             45              34       41         62   \n",
       "\n",
       "     employment_st  poi  personl_sttus  gurntors  resident_since  \\\n",
       "0             75.0  4.0             93       101               4   \n",
       "1             75.0  3.0             92       103               4   \n",
       "2             75.0  1.0             92       101               4   \n",
       "3             75.0  4.0             93       101               4   \n",
       "4             71.0  1.0             92       101               2   \n",
       "..             ...  ...            ...       ...             ...   \n",
       "195           74.0  3.0             92       101               4   \n",
       "196            NaN  4.0             91       101               4   \n",
       "197           75.0  4.0             93       101               4   \n",
       "198           73.0  4.0             93       101               4   \n",
       "199           71.0  3.0             93       101               4   \n",
       "\n",
       "     property_type    ge  instllment_type  housing_type  credits_no  job_type  \\\n",
       "0              124  54.0              143         153.0           2       173   \n",
       "1              121  48.0              141         151.0           2       172   \n",
       "2              122  24.0              143         152.0           2       173   \n",
       "3              123  35.0              143         152.0           2       173   \n",
       "4              121  24.0              143         151.0           1       171   \n",
       "..             ...   ...              ...           ...         ...       ...   \n",
       "195            121  31.0              143         152.0           1       172   \n",
       "196            122  40.0              143         152.0           1       174   \n",
       "197            123  38.0              143           NaN           1       173   \n",
       "198            124  23.0              143         153.0           1       173   \n",
       "199            123  27.0              143         152.0           1       173   \n",
       "\n",
       "     libles  telephone  foreigner  \n",
       "0         2        191        201  \n",
       "1         1        192        201  \n",
       "2         1        191        201  \n",
       "3         1        191        201  \n",
       "4         1        191        201  \n",
       "..      ...        ...        ...  \n",
       "195       1        191        201  \n",
       "196       1        192        201  \n",
       "197       1        191        201  \n",
       "198       1        192        201  \n",
       "199       1        191        201  \n",
       "\n",
       "[200 rows x 20 columns]"
      ]
     },
     "execution_count": 90,
     "metadata": {},
     "output_type": "execute_result"
    }
   ],
   "source": [
    "te=pd.read_csv(\"C&T test dataset2.csv\")\n",
    "te"
   ]
  },
  {
   "cell_type": "code",
   "execution_count": 91,
   "id": "2e921738-adf3-48e5-83ff-1351c7a2d5b1",
   "metadata": {},
   "outputs": [
    {
     "data": {
      "text/plain": [
       "4"
      ]
     },
     "execution_count": 91,
     "metadata": {},
     "output_type": "execute_result"
    }
   ],
   "source": [
    "te.isnull().any().sum()"
   ]
  },
  {
   "cell_type": "code",
   "execution_count": 92,
   "id": "b4296f11-1264-4a8f-9721-b68c1b98e6b9",
   "metadata": {},
   "outputs": [],
   "source": [
    "te.dropna(inplace=True)"
   ]
  },
  {
   "cell_type": "code",
   "execution_count": 93,
   "id": "392a3944-9d91-462b-9f4b-b4fba924a53a",
   "metadata": {},
   "outputs": [
    {
     "data": {
      "text/plain": [
       "0"
      ]
     },
     "execution_count": 93,
     "metadata": {},
     "output_type": "execute_result"
    }
   ],
   "source": [
    "te.isnull().any().sum()"
   ]
  },
  {
   "cell_type": "code",
   "execution_count": 94,
   "id": "177b72a9-9756-4e18-896f-dded6428abaf",
   "metadata": {},
   "outputs": [],
   "source": [
    "y_pred_train_test = rf_model.predict(te)"
   ]
  },
  {
   "cell_type": "code",
   "execution_count": 95,
   "id": "fbbb56c6-27ba-4908-809c-68983a2b1c86",
   "metadata": {},
   "outputs": [
    {
     "data": {
      "text/plain": [
       "array([1, 2, 2, 3, 3, 1, 3, 3, 1, 3, 3, 1, 1, 1, 1, 2, 3, 1, 3, 3, 3, 1,\n",
       "       3, 2, 3, 2, 2, 1, 2, 2, 1, 2, 2, 3, 3, 2, 2, 2, 2, 2, 2, 2, 2, 3,\n",
       "       3, 3, 3, 2, 2, 3, 1, 3, 3, 2, 3, 3, 3, 2, 2, 2, 2, 2, 2, 2, 3, 1,\n",
       "       2, 2, 3, 2, 3, 2, 1, 1, 1, 1, 2, 3, 2, 1, 1, 1, 1, 2, 3, 1, 1, 1,\n",
       "       3, 2, 2, 2, 1, 1, 2, 2, 1, 2, 3, 2, 2, 1, 3, 2, 1, 3, 2, 2, 2, 1,\n",
       "       3, 2, 2, 2, 2, 1, 2, 3, 2, 3, 3, 2, 3, 1, 3, 2, 1, 1, 2, 3, 2, 2,\n",
       "       2, 1, 2, 3, 2, 2, 1, 2, 1, 1, 2, 2, 2, 2, 2, 3, 2, 3, 2, 2, 1, 2,\n",
       "       3, 2, 1, 1, 2, 2, 2, 3, 3, 2, 1, 2, 1, 2, 3, 1, 2, 1, 2, 3, 2, 1,\n",
       "       3, 3, 1, 1], dtype=int64)"
      ]
     },
     "execution_count": 95,
     "metadata": {},
     "output_type": "execute_result"
    }
   ],
   "source": [
    "y_pred_train_test"
   ]
  },
  {
   "cell_type": "markdown",
   "id": "8b0af044-f51e-4b18-a06c-9e697419673d",
   "metadata": {},
   "source": [
    "## SVM"
   ]
  },
  {
   "cell_type": "code",
   "execution_count": 96,
   "id": "31f64408-6d8f-43d0-995e-164e21c4947a",
   "metadata": {},
   "outputs": [
    {
     "name": "stderr",
     "output_type": "stream",
     "text": [
      "100%|███████████████████████████████████████████████| 4/4 [00:20<00:00,  5.24s/it]\n"
     ]
    },
    {
     "data": {
      "text/plain": [
       "{'linear': 0.6721311475409836,\n",
       " 'poly': 0.45081967213114754,\n",
       " 'rbf': 0.45081967213114754,\n",
       " 'sigmoid': 0.4098360655737705}"
      ]
     },
     "execution_count": 96,
     "metadata": {},
     "output_type": "execute_result"
    }
   ],
   "source": [
    "# Iterating to see which kernel gives the best result\n",
    "kernels = ['linear', 'poly', 'rbf', 'sigmoid']\n",
    "score_list = {}\n",
    "scores = 0\n",
    "svm_linear = []\n",
    "\n",
    "for k in tqdm(kernels):\n",
    "    svm_model = SVC(random_state = 42, kernel= k)\n",
    "    svm_model.fit(X_train, y_train)\n",
    "    if k == 'linear':\n",
    "      svm_linear.append(svm_model)\n",
    "    f_score = svm_model.score(X_val, y_val)\n",
    "    score_list.update({k: f_score})\n",
    "\n",
    "\n",
    "score_list"
   ]
  },
  {
   "cell_type": "code",
   "execution_count": 97,
   "id": "b34640f0-39f9-4889-9264-2b6ba56c208c",
   "metadata": {},
   "outputs": [],
   "source": [
    "max_val = max(score_list.values())\n",
    "list_values = list(score_list.values())\n",
    "list_keys = list(score_list.keys())\n",
    "\n",
    "# Best kernel\n",
    "k = list_keys[list_values.index(max_val)]"
   ]
  },
  {
   "cell_type": "code",
   "execution_count": 98,
   "id": "03a7a921-bc8a-4df1-9052-2e0b21a20e81",
   "metadata": {},
   "outputs": [
    {
     "name": "stdout",
     "output_type": "stream",
     "text": [
      "Accuracy of Support vector classifier model is 62.1%\n"
     ]
    }
   ],
   "source": [
    "# Train a SVC model\n",
    "svm_model = SVC(random_state = 42, kernel = k)\n",
    "svm_model.fit(X_train, y_train)\n",
    "\n",
    "# Predict target values for test data\n",
    "y_pred = svm_model.predict(X_test)\n",
    "\n",
    "# Evaluate the model's accuracy\n",
    "svm_acc = round(accuracy_score(y_test, y_pred),3)\n",
    "print(f'Accuracy of Support vector classifier model is {svm_acc * 100}%')\n",
    "\n",
    "# Add to model list\n",
    "trained_models.append(svm_model)"
   ]
  },
  {
   "cell_type": "markdown",
   "id": "8900a612-ea28-46f2-8fdc-57ec02735260",
   "metadata": {},
   "source": [
    "## Accuracy for every model"
   ]
  },
  {
   "cell_type": "code",
   "execution_count": 99,
   "id": "827f8256-4dd3-4447-8dfd-02124af81129",
   "metadata": {},
   "outputs": [
    {
     "data": {
      "image/svg+xml": [
       "<svg class=\"main-svg\" xmlns=\"http://www.w3.org/2000/svg\" xmlns:xlink=\"http://www.w3.org/1999/xlink\" width=\"800\" height=\"400\" style=\"\" viewBox=\"0 0 800 400\"><rect x=\"0\" y=\"0\" width=\"800\" height=\"400\" style=\"fill: rgb(255, 255, 255); fill-opacity: 1;\"/><defs id=\"defs-f084a0\"><g class=\"clips\"><clipPath id=\"clipf084a0xyplot\" class=\"plotclip\"><rect width=\"570\" height=\"260\"/></clipPath><clipPath class=\"axesclip\" id=\"clipf084a0x\"><rect x=\"129\" y=\"0\" width=\"570\" height=\"400\"/></clipPath><clipPath class=\"axesclip\" id=\"clipf084a0y\"><rect x=\"0\" y=\"60\" width=\"800\" height=\"260\"/></clipPath><clipPath class=\"axesclip\" id=\"clipf084a0xy\"><rect x=\"129\" y=\"60\" width=\"570\" height=\"260\"/></clipPath></g><g class=\"gradients\"><linearGradient x1=\"0\" x2=\"0\" y1=\"1\" y2=\"0\" id=\"gf084a0-cbcoloraxis\"><stop offset=\"0%\" stop-color=\"rgb(13, 8, 135)\" stop-opacity=\"1\"/><stop offset=\"11.111111%\" stop-color=\"rgb(70, 3, 159)\" stop-opacity=\"1\"/><stop offset=\"22.222222%\" stop-color=\"rgb(114, 1, 168)\" stop-opacity=\"1\"/><stop offset=\"33.333333%\" stop-color=\"rgb(156, 23, 158)\" stop-opacity=\"1\"/><stop offset=\"44.444444%\" stop-color=\"rgb(189, 55, 134)\" stop-opacity=\"1\"/><stop offset=\"55.555556%\" stop-color=\"rgb(216, 87, 107)\" stop-opacity=\"1\"/><stop offset=\"66.666667%\" stop-color=\"rgb(237, 121, 83)\" stop-opacity=\"1\"/><stop offset=\"77.777778%\" stop-color=\"rgb(251, 159, 58)\" stop-opacity=\"1\"/><stop offset=\"88.888889%\" stop-color=\"rgb(253, 202, 38)\" stop-opacity=\"1\"/><stop offset=\"100%\" stop-color=\"rgb(240, 249, 33)\" stop-opacity=\"1\"/></linearGradient></g><g class=\"patterns\"/></defs><g class=\"bglayer\"><rect class=\"bg\" x=\"129\" y=\"60\" width=\"570\" height=\"260\" style=\"fill: rgb(229, 236, 246); fill-opacity: 1; stroke-width: 0;\"/></g><g class=\"layer-below\"><g class=\"imagelayer\"/><g class=\"shapelayer\"/></g><g class=\"cartesianlayer\"><g class=\"subplot xy\"><g class=\"layer-subplot\"><g class=\"shapelayer\"/><g class=\"imagelayer\"/></g><g class=\"minor-gridlayer\"><g class=\"x\"/><g class=\"y\"/></g><g class=\"gridlayer\"><g class=\"x\"><path class=\"xgrid crisp\" transform=\"translate(210.18,0)\" d=\"M0,60v260\" style=\"stroke: rgb(255, 255, 255); stroke-opacity: 1; stroke-width: 1px;\"/><path class=\"xgrid crisp\" transform=\"translate(291.37,0)\" d=\"M0,60v260\" style=\"stroke: rgb(255, 255, 255); stroke-opacity: 1; stroke-width: 1px;\"/><path class=\"xgrid crisp\" transform=\"translate(372.55,0)\" d=\"M0,60v260\" style=\"stroke: rgb(255, 255, 255); stroke-opacity: 1; stroke-width: 1px;\"/><path class=\"xgrid crisp\" transform=\"translate(453.74,0)\" d=\"M0,60v260\" style=\"stroke: rgb(255, 255, 255); stroke-opacity: 1; stroke-width: 1px;\"/><path class=\"xgrid crisp\" transform=\"translate(534.9200000000001,0)\" d=\"M0,60v260\" style=\"stroke: rgb(255, 255, 255); stroke-opacity: 1; stroke-width: 1px;\"/><path class=\"xgrid crisp\" transform=\"translate(616.11,0)\" d=\"M0,60v260\" style=\"stroke: rgb(255, 255, 255); stroke-opacity: 1; stroke-width: 1px;\"/><path class=\"xgrid crisp\" transform=\"translate(697.29,0)\" d=\"M0,60v260\" style=\"stroke: rgb(255, 255, 255); stroke-opacity: 1; stroke-width: 1px;\"/></g><g class=\"y\"/></g><g class=\"zerolinelayer\"><path class=\"xzl zl crisp\" transform=\"translate(129,0)\" d=\"M0,60v260\" style=\"stroke: rgb(255, 255, 255); stroke-opacity: 1; stroke-width: 2px;\"/></g><path class=\"xlines-below\"/><path class=\"ylines-below\"/><g class=\"overlines-below\"/><g class=\"xaxislayer-below\"/><g class=\"yaxislayer-below\"/><g class=\"overaxes-below\"/><g class=\"plot\" transform=\"translate(129,60)\" clip-path=\"url(#clipf084a0xyplot)\"><g class=\"barlayer mlayer\"><g class=\"trace bars\" style=\"opacity: 1;\"><g class=\"points\"><g class=\"point\"><path d=\"M0,247V143H504.16V247Z\" style=\"vector-effect: none; opacity: 1; stroke-width: 0.5px; fill: rgb(13, 8, 135); fill-opacity: 1; stroke: rgb(229, 236, 246); stroke-opacity: 1;\"/><text class=\"bartext bartext-inside\" text-anchor=\"middle\" data-notex=\"1\" x=\"0\" y=\"0\" style=\"font-family: 'Open Sans', verdana, arial, sans-serif; font-size: 12px; fill: rgb(255, 255, 255); fill-opacity: 1; white-space: pre;\" transform=\"translate(483.706875,199.5)\">0.621</text></g><g class=\"point\"><path d=\"M0,117V13H541.5V117Z\" style=\"vector-effect: none; opacity: 1; stroke-width: 0.5px; fill: rgb(240, 249, 33); fill-opacity: 1; stroke: rgb(229, 236, 246); stroke-opacity: 1;\"/><text class=\"bartext bartext-inside\" text-anchor=\"middle\" data-notex=\"1\" x=\"0\" y=\"0\" style=\"font-family: 'Open Sans', verdana, arial, sans-serif; font-size: 12px; fill: rgb(68, 68, 68); fill-opacity: 1; white-space: pre;\" transform=\"translate(520.6875,69.5)\">0.667</text></g></g></g></g></g><g class=\"overplot\"/><path class=\"xlines-above crisp\" d=\"M0,0\" style=\"fill: none;\"/><path class=\"ylines-above crisp\" d=\"M0,0\" style=\"fill: none;\"/><g class=\"overlines-above\"/><g class=\"xaxislayer-above\"><g class=\"xtick\"><text text-anchor=\"middle\" x=\"0\" y=\"333\" transform=\"translate(129,0)\" style=\"font-family: 'Open Sans', verdana, arial, sans-serif; font-size: 12px; fill: rgb(42, 63, 95); fill-opacity: 1; white-space: pre; opacity: 1;\">0</text></g><g class=\"xtick\"><text text-anchor=\"middle\" x=\"0\" y=\"333\" style=\"font-family: 'Open Sans', verdana, arial, sans-serif; font-size: 12px; fill: rgb(42, 63, 95); fill-opacity: 1; white-space: pre; opacity: 1;\" transform=\"translate(210.18,0)\">0.1</text></g><g class=\"xtick\"><text text-anchor=\"middle\" x=\"0\" y=\"333\" style=\"font-family: 'Open Sans', verdana, arial, sans-serif; font-size: 12px; fill: rgb(42, 63, 95); fill-opacity: 1; white-space: pre; opacity: 1;\" transform=\"translate(291.37,0)\">0.2</text></g><g class=\"xtick\"><text text-anchor=\"middle\" x=\"0\" y=\"333\" style=\"font-family: 'Open Sans', verdana, arial, sans-serif; font-size: 12px; fill: rgb(42, 63, 95); fill-opacity: 1; white-space: pre; opacity: 1;\" transform=\"translate(372.55,0)\">0.3</text></g><g class=\"xtick\"><text text-anchor=\"middle\" x=\"0\" y=\"333\" style=\"font-family: 'Open Sans', verdana, arial, sans-serif; font-size: 12px; fill: rgb(42, 63, 95); fill-opacity: 1; white-space: pre; opacity: 1;\" transform=\"translate(453.74,0)\">0.4</text></g><g class=\"xtick\"><text text-anchor=\"middle\" x=\"0\" y=\"333\" style=\"font-family: 'Open Sans', verdana, arial, sans-serif; font-size: 12px; fill: rgb(42, 63, 95); fill-opacity: 1; white-space: pre; opacity: 1;\" transform=\"translate(534.9200000000001,0)\">0.5</text></g><g class=\"xtick\"><text text-anchor=\"middle\" x=\"0\" y=\"333\" style=\"font-family: 'Open Sans', verdana, arial, sans-serif; font-size: 12px; fill: rgb(42, 63, 95); fill-opacity: 1; white-space: pre; opacity: 1;\" transform=\"translate(616.11,0)\">0.6</text></g><g class=\"xtick\"><text text-anchor=\"middle\" x=\"0\" y=\"333\" style=\"font-family: 'Open Sans', verdana, arial, sans-serif; font-size: 12px; fill: rgb(42, 63, 95); fill-opacity: 1; white-space: pre; opacity: 1;\" transform=\"translate(697.29,0)\">0.7</text></g></g><g class=\"yaxislayer-above\"><g class=\"ytick\"><text text-anchor=\"end\" x=\"128\" y=\"4.199999999999999\" transform=\"translate(0,255)\" style=\"font-family: 'Open Sans', verdana, arial, sans-serif; font-size: 12px; fill: rgb(42, 63, 95); fill-opacity: 1; white-space: pre; opacity: 1;\">SVC</text></g><g class=\"ytick\"><text text-anchor=\"end\" x=\"128\" y=\"4.199999999999999\" transform=\"translate(0,125)\" style=\"font-family: 'Open Sans', verdana, arial, sans-serif; font-size: 12px; fill: rgb(42, 63, 95); fill-opacity: 1; white-space: pre; opacity: 1;\">Random Forest</text></g></g><g class=\"overaxes-above\"/></g></g><g class=\"polarlayer\"/><g class=\"smithlayer\"/><g class=\"ternarylayer\"/><g class=\"geolayer\"/><g class=\"funnelarealayer\"/><g class=\"pielayer\"/><g class=\"iciclelayer\"/><g class=\"treemaplayer\"/><g class=\"sunburstlayer\"/><g class=\"glimages\"/><defs id=\"topdefs-f084a0\"><g class=\"clips\"/></defs><g class=\"layer-above\"><g class=\"imagelayer\"/><g class=\"shapelayer\"/></g><g class=\"infolayer\"><g class=\"cbcoloraxis colorbar\" transform=\"translate(129,60)\"><rect class=\"cbbg\" x=\"581\" y=\"0\" width=\"77.640625\" height=\"260\" style=\"fill: rgb(0, 0, 0); fill-opacity: 0; stroke: rgb(68, 68, 68); stroke-opacity: 1; stroke-width: 0;\"/><g class=\"cbfills\" transform=\"translate(0,32)\"><rect class=\"cbfill gradient_filled\" style=\"fill: url('#gf084a0-cbcoloraxis');\" x=\"591\" y=\"0\" width=\"30\" height=\"218\"/></g><g class=\"cblines\" transform=\"translate(0,32)\"/><g class=\"cbaxis crisp\" transform=\"translate(0,-60)\"><g class=\"ycbcoloraxistick\"><text text-anchor=\"start\" x=\"623.9\" y=\"4.199999999999999\" transform=\"translate(0,267.35)\" style=\"font-family: 'Open Sans', verdana, arial, sans-serif; font-size: 12px; fill: rgb(42, 63, 95); fill-opacity: 1; white-space: pre; opacity: 1;\">0.63</text></g><g class=\"ycbcoloraxistick\"><text text-anchor=\"start\" x=\"623.9\" y=\"4.199999999999999\" style=\"font-family: 'Open Sans', verdana, arial, sans-serif; font-size: 12px; fill: rgb(42, 63, 95); fill-opacity: 1; white-space: pre; opacity: 1;\" transform=\"translate(0,219.95999999999998)\">0.64</text></g><g class=\"ycbcoloraxistick\"><text text-anchor=\"start\" x=\"623.9\" y=\"4.199999999999999\" style=\"font-family: 'Open Sans', verdana, arial, sans-serif; font-size: 12px; fill: rgb(42, 63, 95); fill-opacity: 1; white-space: pre; opacity: 1;\" transform=\"translate(0,172.57)\">0.65</text></g><g class=\"ycbcoloraxistick\"><text text-anchor=\"start\" x=\"623.9\" y=\"4.199999999999999\" style=\"font-family: 'Open Sans', verdana, arial, sans-serif; font-size: 12px; fill: rgb(42, 63, 95); fill-opacity: 1; white-space: pre; opacity: 1;\" transform=\"translate(0,125.17)\">0.66</text></g></g><g class=\"cbtitleunshift\" transform=\"translate(-129,-60)\"><g class=\"cbtitle\" transform=\"\"><text class=\"ycbcoloraxistitle\" x=\"720.4\" y=\"83.5\" text-anchor=\"start\" style=\"font-family: 'Open Sans', verdana, arial, sans-serif; font-size: 14px; fill: rgb(42, 63, 95); opacity: 1; font-weight: normal; white-space: pre;\">color</text></g></g><rect class=\"cboutline\" x=\"591\" y=\"32\" width=\"30\" height=\"218\" style=\"stroke: rgb(68, 68, 68); stroke-opacity: 1; fill: none; stroke-width: 0;\"/></g><g class=\"g-gtitle\"><text class=\"gtitle\" x=\"40\" y=\"30\" text-anchor=\"start\" dy=\"0em\" style=\"font-family: 'Open Sans', verdana, arial, sans-serif; font-size: 17px; fill: rgb(42, 63, 95); opacity: 1; font-weight: normal; white-space: pre;\">Accuracy performance of classification models</text></g><g class=\"g-xtitle\"><text class=\"xtitle\" x=\"414\" y=\"360.3\" text-anchor=\"middle\" style=\"font-family: 'Open Sans', verdana, arial, sans-serif; font-size: 14px; fill: rgb(42, 63, 95); opacity: 1; font-weight: normal; white-space: pre;\">Accuracy</text></g><g class=\"g-ytitle\" transform=\"translate(1.0029296875,0)\"><text class=\"ytitle\" transform=\"rotate(-90,12.996875000000003,190)\" x=\"12.996875000000003\" y=\"190\" text-anchor=\"middle\" style=\"font-family: 'Open Sans', verdana, arial, sans-serif; font-size: 14px; fill: rgb(42, 63, 95); opacity: 1; font-weight: normal; white-space: pre;\">CLASSIFIER</text></g></g></svg>"
      ]
     },
     "metadata": {},
     "output_type": "display_data"
    }
   ],
   "source": [
    "# Bar plot showing each classifier\n",
    "accuracy_of_models = {'SVC': svm_acc,\n",
    "                      'Random Forest': rf_acc,\n",
    "                      }\n",
    "\n",
    "\n",
    "fig = px.bar(y = list(accuracy_of_models.keys()), x= list(accuracy_of_models.values()),\n",
    "             color = list(accuracy_of_models.values()),\n",
    "             width = 800, height = 400,\n",
    "             color_discrete_sequence=px.colors.qualitative.G10,\n",
    "             labels={'y':'CLASSIFIER', 'x':'Accuracy'}, text_auto=True)\n",
    "\n",
    "\n",
    "fig.update_layout(title='Accuracy performance of classification models', showlegend=False)\n",
    "fig.write_image('fig.svg', engine='kaleido')\n",
    "fig.show('svg')"
   ]
  },
  {
   "cell_type": "markdown",
   "id": "bfa3dbee-022a-40b1-b3af-4024713380bb",
   "metadata": {},
   "source": [
    "## confussion matrix"
   ]
  },
  {
   "cell_type": "markdown",
   "id": "5ddfcb05-3d12-4e11-a743-3ab826ada873",
   "metadata": {},
   "source": [
    "best model confusion matrix\n"
   ]
  },
  {
   "cell_type": "code",
   "execution_count": 100,
   "id": "e87acf88-58a5-481c-9b5a-e877b56a21cf",
   "metadata": {},
   "outputs": [
    {
     "data": {
      "text/plain": [
       "{'SVC': RandomForestClassifier(max_depth=9, max_leaf_nodes=9, random_state=42),\n",
       " 'Random Forest': SVC(kernel='linear', random_state=42)}"
      ]
     },
     "execution_count": 100,
     "metadata": {},
     "output_type": "execute_result"
    }
   ],
   "source": [
    "list_of_models = [ 'SVC','Random Forest']\n",
    "dictionary_models = {list_of_models[i]: trained_models[i] for i in range(len(list_of_models))}\n",
    "dictionary_models"
   ]
  },
  {
   "cell_type": "code",
   "execution_count": 101,
   "id": "16c38375-86e9-400f-861c-6b02c849b5dd",
   "metadata": {},
   "outputs": [
    {
     "data": {
      "image/png": "[encoded data removed]",
      "text/plain": [
       "<Figure size 640x480 with 2 Axes>"
      ]
     },
     "metadata": {},
     "output_type": "display_data"
    }
   ],
   "source": [
    "# Find the highest score\n",
    "scores = [svm_acc, rf_acc]\n",
    "best_score = max(scores)\n",
    "key_best_model = ''\n",
    "best_model = ''\n",
    "\n",
    "# Generate a heatmap for the classifier that has the highest score\n",
    "for key, value in accuracy_of_models.items():\n",
    "  if best_score == value:\n",
    "    key_best_model = key\n",
    "    best_model = dictionary_models[key_best_model]\n",
    "    ConfusionMatrixDisplay.from_estimator(best_model,\n",
    "                                          X_test, y_test,\n",
    "                                          display_labels=['1', '2','3'])\n",
    "    plt.title(key_best_model);\n",
    "\n",
    "    #Pop the best performing model from dictionary\n",
    "    dictionary_models.pop(key_best_model)\n",
    "\n",
    "\n"
   ]
  },
  {
   "cell_type": "markdown",
   "id": "0263082f-777d-4d45-9de0-fb63863a89b8",
   "metadata": {},
   "source": [
    "## Feature importence"
   ]
  },
  {
   "cell_type": "code",
   "execution_count": 102,
   "id": "68262abd-a5d7-4d67-b770-7f15bc8137e4",
   "metadata": {},
   "outputs": [],
   "source": [
    "# create list for features\n",
    "feature = X_features.columns"
   ]
  },
  {
   "cell_type": "code",
   "execution_count": 103,
   "id": "a15b4d5e-8cab-437b-830e-2aadb9d69d35",
   "metadata": {},
   "outputs": [],
   "source": [
    "# Random forest\n",
    "rf_importance = pd.Series(np.exp(rf_model.feature_importances_), index = feature).sort_values()\n",
    "\n",
    "# SVM linear kernel\n",
    "svm_importance = pd.Series(np.exp(svm_linear[0].coef_[0]), index = feature).sort_values()\n"
   ]
  },
  {
   "cell_type": "code",
   "execution_count": 104,
   "id": "583ebc30-0c43-4b36-9834-ab563ecf2f0e",
   "metadata": {},
   "outputs": [
    {
     "data": {
      "image/png": "[encoded data removed]",
      "text/plain": [
       "<Figure size 1500x800 with 2 Axes>"
      ]
     },
     "metadata": {},
     "output_type": "display_data"
    }
   ],
   "source": [
    "# Create subplots\n",
    "fig, ax = plt.subplots(2, figsize=(15, 8))\n",
    "\n",
    "# Add the barplots\n",
    "rf_importance.plot(kind = 'barh', ax = ax[0], title = 'Random forest importance')\n",
    "svm_importance.plot(kind='barh', ax = ax[1], title = 'SVM importance')\n",
    "\n",
    "# Add vertical lines at x=1\n",
    "for axes_row in ax:\n",
    "    axes_row.axvline(x=1, color='black')\n",
    "plt.tight_layout()\n",
    "plt.show()\n"
   ]
  },
  {
   "cell_type": "code",
   "execution_count": 107,
   "id": "9bcc621b-3996-4034-a90f-b55a09c046c1",
   "metadata": {},
   "outputs": [
    {
     "ename": "ValueError",
     "evalue": "multiclass format is not supported",
     "output_type": "error",
     "traceback": [
      "\u001b[1;31m---------------------------------------------------------------------------\u001b[0m",
      "\u001b[1;31mValueError\u001b[0m                                Traceback (most recent call last)",
      "Cell \u001b[1;32mIn[107], line 3\u001b[0m\n\u001b[0;32m      1\u001b[0m \u001b[38;5;66;03m# ROC curve for best model's predictions\u001b[39;00m\n\u001b[0;32m      2\u001b[0m y_pred \u001b[38;5;241m=\u001b[39m best_model\u001b[38;5;241m.\u001b[39mpredict(X_test)\n\u001b[1;32m----> 3\u001b[0m fpr\u001b[38;5;241m=\u001b[39m \u001b[43mroc_curve\u001b[49m\u001b[43m(\u001b[49m\u001b[43my_test\u001b[49m\u001b[43m,\u001b[49m\u001b[43m \u001b[49m\u001b[43my_pred\u001b[49m\u001b[43m)\u001b[49m[\u001b[38;5;241m0\u001b[39m]\n\u001b[0;32m      4\u001b[0m tpr\u001b[38;5;241m=\u001b[39m roc_curve(y_test, y_pred)[\u001b[38;5;241m1\u001b[39m]\n\u001b[0;32m      5\u001b[0m threshold \u001b[38;5;241m=\u001b[39m roc_curve(y_test, y_pred)[\u001b[38;5;241m2\u001b[39m]\n",
      "File \u001b[1;32m~\\AppData\\Local\\Programs\\Python\\Python312\\Lib\\site-packages\\sklearn\\utils\\_param_validation.py:214\u001b[0m, in \u001b[0;36mvalidate_params.<locals>.decorator.<locals>.wrapper\u001b[1;34m(*args, **kwargs)\u001b[0m\n\u001b[0;32m    208\u001b[0m \u001b[38;5;28;01mtry\u001b[39;00m:\n\u001b[0;32m    209\u001b[0m     \u001b[38;5;28;01mwith\u001b[39;00m config_context(\n\u001b[0;32m    210\u001b[0m         skip_parameter_validation\u001b[38;5;241m=\u001b[39m(\n\u001b[0;32m    211\u001b[0m             prefer_skip_nested_validation \u001b[38;5;129;01mor\u001b[39;00m global_skip_validation\n\u001b[0;32m    212\u001b[0m         )\n\u001b[0;32m    213\u001b[0m     ):\n\u001b[1;32m--> 214\u001b[0m         \u001b[38;5;28;01mreturn\u001b[39;00m \u001b[43mfunc\u001b[49m\u001b[43m(\u001b[49m\u001b[38;5;241;43m*\u001b[39;49m\u001b[43margs\u001b[49m\u001b[43m,\u001b[49m\u001b[43m \u001b[49m\u001b[38;5;241;43m*\u001b[39;49m\u001b[38;5;241;43m*\u001b[39;49m\u001b[43mkwargs\u001b[49m\u001b[43m)\u001b[49m\n\u001b[0;32m    215\u001b[0m \u001b[38;5;28;01mexcept\u001b[39;00m InvalidParameterError \u001b[38;5;28;01mas\u001b[39;00m e:\n\u001b[0;32m    216\u001b[0m     \u001b[38;5;66;03m# When the function is just a wrapper around an estimator, we allow\u001b[39;00m\n\u001b[0;32m    217\u001b[0m     \u001b[38;5;66;03m# the function to delegate validation to the estimator, but we replace\u001b[39;00m\n\u001b[0;32m    218\u001b[0m     \u001b[38;5;66;03m# the name of the estimator by the name of the function in the error\u001b[39;00m\n\u001b[0;32m    219\u001b[0m     \u001b[38;5;66;03m# message to avoid confusion.\u001b[39;00m\n\u001b[0;32m    220\u001b[0m     msg \u001b[38;5;241m=\u001b[39m re\u001b[38;5;241m.\u001b[39msub(\n\u001b[0;32m    221\u001b[0m         \u001b[38;5;124mr\u001b[39m\u001b[38;5;124m\"\u001b[39m\u001b[38;5;124mparameter of \u001b[39m\u001b[38;5;124m\\\u001b[39m\u001b[38;5;124mw+ must be\u001b[39m\u001b[38;5;124m\"\u001b[39m,\n\u001b[0;32m    222\u001b[0m         \u001b[38;5;124mf\u001b[39m\u001b[38;5;124m\"\u001b[39m\u001b[38;5;124mparameter of \u001b[39m\u001b[38;5;132;01m{\u001b[39;00mfunc\u001b[38;5;241m.\u001b[39m\u001b[38;5;18m__qualname__\u001b[39m\u001b[38;5;132;01m}\u001b[39;00m\u001b[38;5;124m must be\u001b[39m\u001b[38;5;124m\"\u001b[39m,\n\u001b[0;32m    223\u001b[0m         \u001b[38;5;28mstr\u001b[39m(e),\n\u001b[0;32m    224\u001b[0m     )\n",
      "File \u001b[1;32m~\\AppData\\Local\\Programs\\Python\\Python312\\Lib\\site-packages\\sklearn\\metrics\\_ranking.py:1095\u001b[0m, in \u001b[0;36mroc_curve\u001b[1;34m(y_true, y_score, pos_label, sample_weight, drop_intermediate)\u001b[0m\n\u001b[0;32m    993\u001b[0m \u001b[38;5;129m@validate_params\u001b[39m(\n\u001b[0;32m    994\u001b[0m     {\n\u001b[0;32m    995\u001b[0m         \u001b[38;5;124m\"\u001b[39m\u001b[38;5;124my_true\u001b[39m\u001b[38;5;124m\"\u001b[39m: [\u001b[38;5;124m\"\u001b[39m\u001b[38;5;124marray-like\u001b[39m\u001b[38;5;124m\"\u001b[39m],\n\u001b[1;32m   (...)\u001b[0m\n\u001b[0;32m   1004\u001b[0m     y_true, y_score, \u001b[38;5;241m*\u001b[39m, pos_label\u001b[38;5;241m=\u001b[39m\u001b[38;5;28;01mNone\u001b[39;00m, sample_weight\u001b[38;5;241m=\u001b[39m\u001b[38;5;28;01mNone\u001b[39;00m, drop_intermediate\u001b[38;5;241m=\u001b[39m\u001b[38;5;28;01mTrue\u001b[39;00m\n\u001b[0;32m   1005\u001b[0m ):\n\u001b[0;32m   1006\u001b[0m \u001b[38;5;250m    \u001b[39m\u001b[38;5;124;03m\"\"\"Compute Receiver operating characteristic (ROC).\u001b[39;00m\n\u001b[0;32m   1007\u001b[0m \n\u001b[0;32m   1008\u001b[0m \u001b[38;5;124;03m    Note: this implementation is restricted to the binary classification task.\u001b[39;00m\n\u001b[1;32m   (...)\u001b[0m\n\u001b[0;32m   1093\u001b[0m \u001b[38;5;124;03m    array([ inf, 0.8 , 0.4 , 0.35, 0.1 ])\u001b[39;00m\n\u001b[0;32m   1094\u001b[0m \u001b[38;5;124;03m    \"\"\"\u001b[39;00m\n\u001b[1;32m-> 1095\u001b[0m     fps, tps, thresholds \u001b[38;5;241m=\u001b[39m \u001b[43m_binary_clf_curve\u001b[49m\u001b[43m(\u001b[49m\n\u001b[0;32m   1096\u001b[0m \u001b[43m        \u001b[49m\u001b[43my_true\u001b[49m\u001b[43m,\u001b[49m\u001b[43m \u001b[49m\u001b[43my_score\u001b[49m\u001b[43m,\u001b[49m\u001b[43m \u001b[49m\u001b[43mpos_label\u001b[49m\u001b[38;5;241;43m=\u001b[39;49m\u001b[43mpos_label\u001b[49m\u001b[43m,\u001b[49m\u001b[43m \u001b[49m\u001b[43msample_weight\u001b[49m\u001b[38;5;241;43m=\u001b[39;49m\u001b[43msample_weight\u001b[49m\n\u001b[0;32m   1097\u001b[0m \u001b[43m    \u001b[49m\u001b[43m)\u001b[49m\n\u001b[0;32m   1099\u001b[0m     \u001b[38;5;66;03m# Attempt to drop thresholds corresponding to points in between and\u001b[39;00m\n\u001b[0;32m   1100\u001b[0m     \u001b[38;5;66;03m# collinear with other points. These are always suboptimal and do not\u001b[39;00m\n\u001b[0;32m   1101\u001b[0m     \u001b[38;5;66;03m# appear on a plotted ROC curve (and thus do not affect the AUC).\u001b[39;00m\n\u001b[1;32m   (...)\u001b[0m\n\u001b[0;32m   1106\u001b[0m     \u001b[38;5;66;03m# but does not drop more complicated cases like fps = [1, 3, 7],\u001b[39;00m\n\u001b[0;32m   1107\u001b[0m     \u001b[38;5;66;03m# tps = [1, 2, 4]; there is no harm in keeping too many thresholds.\u001b[39;00m\n\u001b[0;32m   1108\u001b[0m     \u001b[38;5;28;01mif\u001b[39;00m drop_intermediate \u001b[38;5;129;01mand\u001b[39;00m \u001b[38;5;28mlen\u001b[39m(fps) \u001b[38;5;241m>\u001b[39m \u001b[38;5;241m2\u001b[39m:\n",
      "File \u001b[1;32m~\\AppData\\Local\\Programs\\Python\\Python312\\Lib\\site-packages\\sklearn\\metrics\\_ranking.py:804\u001b[0m, in \u001b[0;36m_binary_clf_curve\u001b[1;34m(y_true, y_score, pos_label, sample_weight)\u001b[0m\n\u001b[0;32m    802\u001b[0m y_type \u001b[38;5;241m=\u001b[39m type_of_target(y_true, input_name\u001b[38;5;241m=\u001b[39m\u001b[38;5;124m\"\u001b[39m\u001b[38;5;124my_true\u001b[39m\u001b[38;5;124m\"\u001b[39m)\n\u001b[0;32m    803\u001b[0m \u001b[38;5;28;01mif\u001b[39;00m \u001b[38;5;129;01mnot\u001b[39;00m (y_type \u001b[38;5;241m==\u001b[39m \u001b[38;5;124m\"\u001b[39m\u001b[38;5;124mbinary\u001b[39m\u001b[38;5;124m\"\u001b[39m \u001b[38;5;129;01mor\u001b[39;00m (y_type \u001b[38;5;241m==\u001b[39m \u001b[38;5;124m\"\u001b[39m\u001b[38;5;124mmulticlass\u001b[39m\u001b[38;5;124m\"\u001b[39m \u001b[38;5;129;01mand\u001b[39;00m pos_label \u001b[38;5;129;01mis\u001b[39;00m \u001b[38;5;129;01mnot\u001b[39;00m \u001b[38;5;28;01mNone\u001b[39;00m)):\n\u001b[1;32m--> 804\u001b[0m     \u001b[38;5;28;01mraise\u001b[39;00m \u001b[38;5;167;01mValueError\u001b[39;00m(\u001b[38;5;124m\"\u001b[39m\u001b[38;5;132;01m{0}\u001b[39;00m\u001b[38;5;124m format is not supported\u001b[39m\u001b[38;5;124m\"\u001b[39m\u001b[38;5;241m.\u001b[39mformat(y_type))\n\u001b[0;32m    806\u001b[0m check_consistent_length(y_true, y_score, sample_weight)\n\u001b[0;32m    807\u001b[0m y_true \u001b[38;5;241m=\u001b[39m column_or_1d(y_true)\n",
      "\u001b[1;31mValueError\u001b[0m: multiclass format is not supported"
     ]
    }
   ],
   "source": [
    "# ROC curve for best model's predictions\n",
    "y_pred = best_model.predict(X_test)\n",
    "fpr, tpr, threshold = roc_curve(y_test, y_pred)\n",
    "roc_auc = auc(fpr, tpr)\n",
    "\n",
    "# Plot ROC curve\n",
    "plt.figure()\n",
    "plt.plot(fpr, tpr)\n",
    "plt.plot([0, 1], [0, 1],'r--')\n",
    "plt.xlim([0.0, 1.0])\n",
    "plt.ylim([0.0, 1.05])\n",
    "plt.xlabel('False Positive Rate')\n",
    "plt.ylabel('True Positive Rate')\n",
    "plt.title('ROC Curve')\n",
    "plt.show()\n",
    "print('\\n')\n",
    "# Print the AUC score\n",
    "print(f'The AUC score is :{round(roc_auc, 2)}')"
   ]
  }
 ],
 "metadata": {
  "kernelspec": {
   "display_name": "Python 3 (ipykernel)",
   "language": "python",
   "name": "python3"
  },
  "language_info": {
   "codemirror_mode": {
    "name": "ipython",
    "version": 3
   },
   "file_extension": ".py",
   "mimetype": "text/x-python",
   "name": "python",
   "nbconvert_exporter": "python",
   "pygments_lexer": "ipython3",
   "version": "3.12.3"
  }
 },
 "nbformat": 4,
 "nbformat_minor": 5
}
